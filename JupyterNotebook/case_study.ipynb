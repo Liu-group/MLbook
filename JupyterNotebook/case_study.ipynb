{
 "cells": [
  {
   "cell_type": "code",
   "execution_count": 1,
   "metadata": {},
   "outputs": [],
   "source": [
    "import operator\n",
    "import numpy as np\n",
    "import sklearn.preprocessing\n",
    "import sklearn.utils\n",
    "from sklearn.decomposition import PCA \n",
    "from sklearn.kernel_ridge import KernelRidge\n",
    "from sklearn.metrics import mean_absolute_error, accuracy_score\n",
    "import sklearn.metrics as sklm\n",
    "from sklearn.ensemble import RandomForestRegressor\n",
    "from sklearn import linear_model\n",
    "from sklearn.model_selection import train_test_split\n",
    "from functools import partial\n",
    "from scipy.stats import pearsonr\n",
    "import matplotlib.pyplot as plt\n",
    "import pickle\n",
    "import os\n",
    "from matplotlib import rc\n",
    "import matplotlib\n",
    "import pandas as pd"
   ]
  },
  {
   "cell_type": "code",
   "execution_count": 2,
   "metadata": {},
   "outputs": [],
   "source": [
    "fs = 10 # font size\n",
    "fs_label = 10 # tick label size\n",
    "fs_lgd = 10 # legend font size\n",
    "ss = 20 # symbol size\n",
    "ts = 3 # tick size\n",
    "slw = 1 # symbol line width\n",
    "framelw = 1 # line width of frame\n",
    "lw = 2 # line width of the bar box\n",
    "rc('axes', linewidth=framelw)\n",
    "plt.rcParams.update({\n",
    "    \"text.usetex\": False,\n",
    "    \"font.weight\":\"bold\",\n",
    "    \"axes.labelweight\":\"bold\",\n",
    "    \"font.size\":fs,\n",
    "    'pdf.fonttype':'truetype'\n",
    "})\n",
    "plt.rcParams['mathtext.fontset']='stix'"
   ]
  },
  {
   "cell_type": "markdown",
   "metadata": {},
   "source": [
    "# Download Data and load data into Pandas\n",
    "\n",
    "We will use the Supporting Information Data of Download the data from the following reference, \n",
    "\n",
    "* Fang Liu, Chenru Duan, and Heather J. Kulik\n",
    "The Journal of Physical Chemistry Letters 2020 11 (19), 8067-8076\n",
    "DOI: 10.1021/acs.jpclett.0c02288\n",
    "\n",
    "The Supporting Information data is free of charge and available for research use. Execute the next cell to download and unzip the dataset. Alternatively you can manually download and extract the dataset from following URL https://pubs.acs.org/doi/suppl/10.1021/acs.jpclett.0c02288/suppl_file/jz0c02288_si_002.zip and then upload to mybinder notebook by following these steps: \n",
    "1. click on Jupyter logo in the top left corner \n",
    "2. navigate to JupyterNotebook/models/ \n",
    "3. upload the locally downloaded and extracted dataset by click on the up arrow below the Run menu"
   ]
  },
  {
   "cell_type": "code",
   "execution_count": 3,
   "metadata": {},
   "outputs": [],
   "source": [
    "%%capture\n",
    "!rm -rf models\n",
    "!mkdir models\n",
    "!wget --keep-session-cookies --save-cookies=cookie.txt \"https://pubs.acs.org/doi/10.1021/acs.jpclett.0c02288\" \n",
    "!wget --referer=\"https://pubs.acs.org/doi/10.1021/acs.jpclett.0c02288\" --cookies=on --keep-session-cookies --load-cookies=cookie.txt https://pubs.acs.org/doi/suppl/10.1021/acs.jpclett.0c02288/suppl_file/jz0c02288_si_002.zip -P models\n",
    "!unzip models/jz0c02288_si_002.zip -d models"
   ]
  },
  {
   "cell_type": "code",
   "execution_count": 4,
   "metadata": {},
   "outputs": [],
   "source": [
    "datapath = '' # path to your data folder\n",
    "modelpath = os.path.join(datapath,'models')\n",
    "filein=modelpath+'/Data/refined_datasets/refined_features.csv' # read in the CSV file containing the features. This file is just for example\n",
    "df_features = pd.read_csv(filein)\n",
    "\n",
    "filein2=modelpath+'/Data/refined_datasets/refined_properties.csv' # read in the CSV file containing the properties. This file is just for example\n",
    "df_props = pd.read_csv(filein2)"
   ]
  },
  {
   "cell_type": "markdown",
   "metadata": {},
   "source": [
    "## Take a look at the features"
   ]
  },
  {
   "cell_type": "code",
   "execution_count": 5,
   "metadata": {},
   "outputs": [
    {
     "data": {
      "text/plain": [
       "(4865, 157)"
      ]
     },
     "execution_count": 5,
     "metadata": {},
     "output_type": "execute_result"
    }
   ],
   "source": [
    "df_features.shape"
   ]
  },
  {
   "cell_type": "code",
   "execution_count": 6,
   "metadata": {},
   "outputs": [
    {
     "data": {
      "text/html": [
       "<div>\n",
       "<style scoped>\n",
       "    .dataframe tbody tr th:only-of-type {\n",
       "        vertical-align: middle;\n",
       "    }\n",
       "\n",
       "    .dataframe tbody tr th {\n",
       "        vertical-align: top;\n",
       "    }\n",
       "\n",
       "    .dataframe thead th {\n",
       "        text-align: right;\n",
       "    }\n",
       "</style>\n",
       "<table border=\"1\" class=\"dataframe\">\n",
       "  <thead>\n",
       "    <tr style=\"text-align: right;\">\n",
       "      <th></th>\n",
       "      <th>id</th>\n",
       "      <th>name</th>\n",
       "      <th>set</th>\n",
       "      <th>ligcharge</th>\n",
       "      <th>ox</th>\n",
       "      <th>spin</th>\n",
       "      <th>RACs.D_lc-S-1-ax</th>\n",
       "      <th>RACs.D_lc-S-1-eq</th>\n",
       "      <th>RACs.D_lc-S-2-ax</th>\n",
       "      <th>RACs.D_lc-S-2-eq</th>\n",
       "      <th>...</th>\n",
       "      <th>RACs.mc-T-2-all</th>\n",
       "      <th>RACs.mc-T-3-all</th>\n",
       "      <th>RACs.mc-Z-0-all</th>\n",
       "      <th>RACs.mc-Z-1-all</th>\n",
       "      <th>RACs.mc-Z-2-all</th>\n",
       "      <th>RACs.mc-Z-3-all</th>\n",
       "      <th>RACs.mc-chi-0-all</th>\n",
       "      <th>RACs.mc-chi-1-all</th>\n",
       "      <th>RACs.mc-chi-2-all</th>\n",
       "      <th>RACs.mc-chi-3-all</th>\n",
       "    </tr>\n",
       "  </thead>\n",
       "  <tbody>\n",
       "    <tr>\n",
       "      <th>0</th>\n",
       "      <td>0</td>\n",
       "      <td>metal_fe_ox_3_spin_6_ligstr_pyr_pyr_pyr_pyr_ca...</td>\n",
       "      <td>MD1</td>\n",
       "      <td>0</td>\n",
       "      <td>3</td>\n",
       "      <td>6</td>\n",
       "      <td>0.04</td>\n",
       "      <td>-0.04</td>\n",
       "      <td>0.00</td>\n",
       "      <td>0.72</td>\n",
       "      <td>...</td>\n",
       "      <td>156</td>\n",
       "      <td>192</td>\n",
       "      <td>676</td>\n",
       "      <td>1040</td>\n",
       "      <td>1664</td>\n",
       "      <td>1456</td>\n",
       "      <td>3.3489</td>\n",
       "      <td>31.5858</td>\n",
       "      <td>49.9224</td>\n",
       "      <td>69.540</td>\n",
       "    </tr>\n",
       "    <tr>\n",
       "      <th>1</th>\n",
       "      <td>1</td>\n",
       "      <td>metal_co_ox_2_spin_2_ligstr_misc_misc_misc_mis...</td>\n",
       "      <td>MD1</td>\n",
       "      <td>0</td>\n",
       "      <td>2</td>\n",
       "      <td>2</td>\n",
       "      <td>0.00</td>\n",
       "      <td>0.02</td>\n",
       "      <td>0.36</td>\n",
       "      <td>0.00</td>\n",
       "      <td>...</td>\n",
       "      <td>90</td>\n",
       "      <td>144</td>\n",
       "      <td>729</td>\n",
       "      <td>999</td>\n",
       "      <td>1296</td>\n",
       "      <td>1026</td>\n",
       "      <td>3.5344</td>\n",
       "      <td>29.6852</td>\n",
       "      <td>38.9160</td>\n",
       "      <td>37.036</td>\n",
       "    </tr>\n",
       "    <tr>\n",
       "      <th>2</th>\n",
       "      <td>2</td>\n",
       "      <td>metal_co_ox_3_spin_5_ligstr_water_water_water_...</td>\n",
       "      <td>MD1</td>\n",
       "      <td>0</td>\n",
       "      <td>3</td>\n",
       "      <td>5</td>\n",
       "      <td>0.72</td>\n",
       "      <td>0.72</td>\n",
       "      <td>0.00</td>\n",
       "      <td>0.00</td>\n",
       "      <td>...</td>\n",
       "      <td>72</td>\n",
       "      <td>0</td>\n",
       "      <td>729</td>\n",
       "      <td>1296</td>\n",
       "      <td>324</td>\n",
       "      <td>0</td>\n",
       "      <td>3.5344</td>\n",
       "      <td>38.8032</td>\n",
       "      <td>49.6320</td>\n",
       "      <td>0.000</td>\n",
       "    </tr>\n",
       "    <tr>\n",
       "      <th>3</th>\n",
       "      <td>3</td>\n",
       "      <td>metal_fe_ox_2_spin_1_ligstr_pyr_pyr_pyr_pyr_py...</td>\n",
       "      <td>MD1</td>\n",
       "      <td>0</td>\n",
       "      <td>2</td>\n",
       "      <td>1</td>\n",
       "      <td>-0.04</td>\n",
       "      <td>-0.04</td>\n",
       "      <td>0.72</td>\n",
       "      <td>0.72</td>\n",
       "      <td>...</td>\n",
       "      <td>216</td>\n",
       "      <td>288</td>\n",
       "      <td>676</td>\n",
       "      <td>1092</td>\n",
       "      <td>1872</td>\n",
       "      <td>2184</td>\n",
       "      <td>3.3489</td>\n",
       "      <td>33.3792</td>\n",
       "      <td>55.9980</td>\n",
       "      <td>104.310</td>\n",
       "    </tr>\n",
       "    <tr>\n",
       "      <th>4</th>\n",
       "      <td>4</td>\n",
       "      <td>metal_mn_ox_2_spin_2_ligstr_pyr_pyr_pyr_pyr_py...</td>\n",
       "      <td>MD1</td>\n",
       "      <td>0</td>\n",
       "      <td>2</td>\n",
       "      <td>2</td>\n",
       "      <td>-0.04</td>\n",
       "      <td>-0.04</td>\n",
       "      <td>0.72</td>\n",
       "      <td>0.72</td>\n",
       "      <td>...</td>\n",
       "      <td>216</td>\n",
       "      <td>288</td>\n",
       "      <td>625</td>\n",
       "      <td>1050</td>\n",
       "      <td>1800</td>\n",
       "      <td>2100</td>\n",
       "      <td>2.4025</td>\n",
       "      <td>28.2720</td>\n",
       "      <td>47.4300</td>\n",
       "      <td>88.350</td>\n",
       "    </tr>\n",
       "  </tbody>\n",
       "</table>\n",
       "<p>5 rows × 157 columns</p>\n",
       "</div>"
      ],
      "text/plain": [
       "   id                                               name  set  ligcharge  ox  \\\n",
       "0   0  metal_fe_ox_3_spin_6_ligstr_pyr_pyr_pyr_pyr_ca...  MD1          0   3   \n",
       "1   1  metal_co_ox_2_spin_2_ligstr_misc_misc_misc_mis...  MD1          0   2   \n",
       "2   2  metal_co_ox_3_spin_5_ligstr_water_water_water_...  MD1          0   3   \n",
       "3   3  metal_fe_ox_2_spin_1_ligstr_pyr_pyr_pyr_pyr_py...  MD1          0   2   \n",
       "4   4  metal_mn_ox_2_spin_2_ligstr_pyr_pyr_pyr_pyr_py...  MD1          0   2   \n",
       "\n",
       "   spin  RACs.D_lc-S-1-ax  RACs.D_lc-S-1-eq  RACs.D_lc-S-2-ax  \\\n",
       "0     6              0.04             -0.04              0.00   \n",
       "1     2              0.00              0.02              0.36   \n",
       "2     5              0.72              0.72              0.00   \n",
       "3     1             -0.04             -0.04              0.72   \n",
       "4     2             -0.04             -0.04              0.72   \n",
       "\n",
       "   RACs.D_lc-S-2-eq  ...  RACs.mc-T-2-all  RACs.mc-T-3-all  RACs.mc-Z-0-all  \\\n",
       "0              0.72  ...              156              192              676   \n",
       "1              0.00  ...               90              144              729   \n",
       "2              0.00  ...               72                0              729   \n",
       "3              0.72  ...              216              288              676   \n",
       "4              0.72  ...              216              288              625   \n",
       "\n",
       "   RACs.mc-Z-1-all  RACs.mc-Z-2-all  RACs.mc-Z-3-all  RACs.mc-chi-0-all  \\\n",
       "0             1040             1664             1456             3.3489   \n",
       "1              999             1296             1026             3.5344   \n",
       "2             1296              324                0             3.5344   \n",
       "3             1092             1872             2184             3.3489   \n",
       "4             1050             1800             2100             2.4025   \n",
       "\n",
       "   RACs.mc-chi-1-all  RACs.mc-chi-2-all  RACs.mc-chi-3-all  \n",
       "0            31.5858            49.9224             69.540  \n",
       "1            29.6852            38.9160             37.036  \n",
       "2            38.8032            49.6320              0.000  \n",
       "3            33.3792            55.9980            104.310  \n",
       "4            28.2720            47.4300             88.350  \n",
       "\n",
       "[5 rows x 157 columns]"
      ]
     },
     "execution_count": 6,
     "metadata": {},
     "output_type": "execute_result"
    }
   ],
   "source": [
    "df_features.head()"
   ]
  },
  {
   "cell_type": "markdown",
   "metadata": {},
   "source": [
    "## Take a look at the properties"
   ]
  },
  {
   "cell_type": "code",
   "execution_count": 7,
   "metadata": {},
   "outputs": [
    {
     "data": {
      "text/plain": [
       "(4865, 24)"
      ]
     },
     "execution_count": 7,
     "metadata": {},
     "output_type": "execute_result"
    }
   ],
   "source": [
    "df_props.shape"
   ]
  },
  {
   "cell_type": "code",
   "execution_count": 8,
   "metadata": {},
   "outputs": [
    {
     "data": {
      "text/html": [
       "<div>\n",
       "<style scoped>\n",
       "    .dataframe tbody tr th:only-of-type {\n",
       "        vertical-align: middle;\n",
       "    }\n",
       "\n",
       "    .dataframe tbody tr th {\n",
       "        vertical-align: top;\n",
       "    }\n",
       "\n",
       "    .dataframe thead th {\n",
       "        text-align: right;\n",
       "    }\n",
       "</style>\n",
       "<table border=\"1\" class=\"dataframe\">\n",
       "  <thead>\n",
       "    <tr style=\"text-align: right;\">\n",
       "      <th></th>\n",
       "      <th>Unnamed: 0</th>\n",
       "      <th>ID</th>\n",
       "      <th>name</th>\n",
       "      <th>charge</th>\n",
       "      <th>ox</th>\n",
       "      <th>spin</th>\n",
       "      <th>natoms</th>\n",
       "      <th>liglist</th>\n",
       "      <th>ne_valence</th>\n",
       "      <th>energy (ha)</th>\n",
       "      <th>...</th>\n",
       "      <th>I_ND</th>\n",
       "      <th>I_D</th>\n",
       "      <th>rND</th>\n",
       "      <th>I_ND_vn</th>\n",
       "      <th>FOD</th>\n",
       "      <th>FOD_vn</th>\n",
       "      <th>energeticHOMO (eV)</th>\n",
       "      <th>energeticGap (eV)</th>\n",
       "      <th>subset</th>\n",
       "      <th>set</th>\n",
       "    </tr>\n",
       "  </thead>\n",
       "  <tbody>\n",
       "    <tr>\n",
       "      <th>0</th>\n",
       "      <td>0</td>\n",
       "      <td>0</td>\n",
       "      <td>metal_fe_ox_3_spin_6_ligstr_pyr_pyr_pyr_pyr_ca...</td>\n",
       "      <td>3</td>\n",
       "      <td>3</td>\n",
       "      <td>6</td>\n",
       "      <td>49</td>\n",
       "      <td>[25, 25, 25, 25, 7, 7]</td>\n",
       "      <td>153</td>\n",
       "      <td>-1342.329042</td>\n",
       "      <td>...</td>\n",
       "      <td>0.777794</td>\n",
       "      <td>1.334297</td>\n",
       "      <td>0.368258</td>\n",
       "      <td>0.005084</td>\n",
       "      <td>1.823334</td>\n",
       "      <td>0.011917</td>\n",
       "      <td>-16.558125</td>\n",
       "      <td>1.480299</td>\n",
       "      <td>SRX</td>\n",
       "      <td>MD1</td>\n",
       "    </tr>\n",
       "    <tr>\n",
       "      <th>1</th>\n",
       "      <td>1</td>\n",
       "      <td>1</td>\n",
       "      <td>metal_co_ox_2_spin_2_ligstr_misc_misc_misc_mis...</td>\n",
       "      <td>2</td>\n",
       "      <td>2</td>\n",
       "      <td>2</td>\n",
       "      <td>38</td>\n",
       "      <td>[18, 18, 18, 18, 25, 7]</td>\n",
       "      <td>119</td>\n",
       "      <td>-1037.237964</td>\n",
       "      <td>...</td>\n",
       "      <td>0.220155</td>\n",
       "      <td>0.973060</td>\n",
       "      <td>0.184505</td>\n",
       "      <td>0.001850</td>\n",
       "      <td>0.450361</td>\n",
       "      <td>0.003785</td>\n",
       "      <td>-12.876425</td>\n",
       "      <td>4.639540</td>\n",
       "      <td>SRX</td>\n",
       "      <td>MD1</td>\n",
       "    </tr>\n",
       "    <tr>\n",
       "      <th>2</th>\n",
       "      <td>2</td>\n",
       "      <td>2</td>\n",
       "      <td>metal_co_ox_3_spin_5_ligstr_water_water_water_...</td>\n",
       "      <td>3</td>\n",
       "      <td>3</td>\n",
       "      <td>5</td>\n",
       "      <td>19</td>\n",
       "      <td>[28, 28, 28, 28, 28, 28]</td>\n",
       "      <td>62</td>\n",
       "      <td>-602.463874</td>\n",
       "      <td>...</td>\n",
       "      <td>0.375511</td>\n",
       "      <td>0.409059</td>\n",
       "      <td>0.478620</td>\n",
       "      <td>0.006057</td>\n",
       "      <td>0.871505</td>\n",
       "      <td>0.014057</td>\n",
       "      <td>-22.667080</td>\n",
       "      <td>2.606850</td>\n",
       "      <td>SRX</td>\n",
       "      <td>MD1</td>\n",
       "    </tr>\n",
       "    <tr>\n",
       "      <th>3</th>\n",
       "      <td>3</td>\n",
       "      <td>3</td>\n",
       "      <td>metal_fe_ox_2_spin_1_ligstr_pyr_pyr_pyr_pyr_py...</td>\n",
       "      <td>2</td>\n",
       "      <td>2</td>\n",
       "      <td>1</td>\n",
       "      <td>67</td>\n",
       "      <td>[25, 25, 25, 25, 25, 25]</td>\n",
       "      <td>194</td>\n",
       "      <td>-1612.832027</td>\n",
       "      <td>...</td>\n",
       "      <td>0.487771</td>\n",
       "      <td>1.715463</td>\n",
       "      <td>0.221388</td>\n",
       "      <td>0.002514</td>\n",
       "      <td>0.996572</td>\n",
       "      <td>0.005137</td>\n",
       "      <td>-11.839671</td>\n",
       "      <td>5.175604</td>\n",
       "      <td>SRX</td>\n",
       "      <td>MD1</td>\n",
       "    </tr>\n",
       "    <tr>\n",
       "      <th>4</th>\n",
       "      <td>4</td>\n",
       "      <td>4</td>\n",
       "      <td>metal_mn_ox_2_spin_2_ligstr_pyr_pyr_pyr_pyr_py...</td>\n",
       "      <td>2</td>\n",
       "      <td>2</td>\n",
       "      <td>2</td>\n",
       "      <td>67</td>\n",
       "      <td>[25, 25, 25, 25, 25, 25]</td>\n",
       "      <td>193</td>\n",
       "      <td>-1593.307398</td>\n",
       "      <td>...</td>\n",
       "      <td>0.557232</td>\n",
       "      <td>1.701161</td>\n",
       "      <td>0.246738</td>\n",
       "      <td>0.002887</td>\n",
       "      <td>1.161882</td>\n",
       "      <td>0.006020</td>\n",
       "      <td>-10.938975</td>\n",
       "      <td>3.891227</td>\n",
       "      <td>SRX</td>\n",
       "      <td>MD1</td>\n",
       "    </tr>\n",
       "  </tbody>\n",
       "</table>\n",
       "<p>5 rows × 24 columns</p>\n",
       "</div>"
      ],
      "text/plain": [
       "   Unnamed: 0  ID                                               name  charge  \\\n",
       "0           0   0  metal_fe_ox_3_spin_6_ligstr_pyr_pyr_pyr_pyr_ca...       3   \n",
       "1           1   1  metal_co_ox_2_spin_2_ligstr_misc_misc_misc_mis...       2   \n",
       "2           2   2  metal_co_ox_3_spin_5_ligstr_water_water_water_...       3   \n",
       "3           3   3  metal_fe_ox_2_spin_1_ligstr_pyr_pyr_pyr_pyr_py...       2   \n",
       "4           4   4  metal_mn_ox_2_spin_2_ligstr_pyr_pyr_pyr_pyr_py...       2   \n",
       "\n",
       "   ox  spin  natoms                   liglist  ne_valence  energy (ha)  ...  \\\n",
       "0   3     6      49    [25, 25, 25, 25, 7, 7]         153 -1342.329042  ...   \n",
       "1   2     2      38   [18, 18, 18, 18, 25, 7]         119 -1037.237964  ...   \n",
       "2   3     5      19  [28, 28, 28, 28, 28, 28]          62  -602.463874  ...   \n",
       "3   2     1      67  [25, 25, 25, 25, 25, 25]         194 -1612.832027  ...   \n",
       "4   2     2      67  [25, 25, 25, 25, 25, 25]         193 -1593.307398  ...   \n",
       "\n",
       "       I_ND       I_D       rND   I_ND_vn       FOD    FOD_vn  \\\n",
       "0  0.777794  1.334297  0.368258  0.005084  1.823334  0.011917   \n",
       "1  0.220155  0.973060  0.184505  0.001850  0.450361  0.003785   \n",
       "2  0.375511  0.409059  0.478620  0.006057  0.871505  0.014057   \n",
       "3  0.487771  1.715463  0.221388  0.002514  0.996572  0.005137   \n",
       "4  0.557232  1.701161  0.246738  0.002887  1.161882  0.006020   \n",
       "\n",
       "   energeticHOMO (eV)  energeticGap (eV)  subset  set  \n",
       "0          -16.558125           1.480299     SRX  MD1  \n",
       "1          -12.876425           4.639540     SRX  MD1  \n",
       "2          -22.667080           2.606850     SRX  MD1  \n",
       "3          -11.839671           5.175604     SRX  MD1  \n",
       "4          -10.938975           3.891227     SRX  MD1  \n",
       "\n",
       "[5 rows x 24 columns]"
      ]
     },
     "execution_count": 8,
     "metadata": {},
     "output_type": "execute_result"
    }
   ],
   "source": [
    "df_props.head()"
   ]
  },
  {
   "cell_type": "markdown",
   "metadata": {},
   "source": [
    "## Take a look at all the $r_{ND}$ diagnostic values"
   ]
  },
  {
   "cell_type": "code",
   "execution_count": 9,
   "metadata": {},
   "outputs": [
    {
     "data": {
      "text/plain": [
       "array([0.36825776, 0.18450546, 0.47861996, ..., 0.28135455, 0.34729125,\n",
       "       0.46193074])"
      ]
     },
     "execution_count": 9,
     "metadata": {},
     "output_type": "execute_result"
    }
   ],
   "source": [
    "df_props['rND'].values"
   ]
  },
  {
   "cell_type": "code",
   "execution_count": 10,
   "metadata": {},
   "outputs": [
    {
     "data": {
      "text/plain": [
       "4865"
      ]
     },
     "execution_count": 10,
     "metadata": {},
     "output_type": "execute_result"
    }
   ],
   "source": [
    "len(df_props['rND'].values)"
   ]
  },
  {
   "cell_type": "markdown",
   "metadata": {},
   "source": [
    "## Take a look at the HOMO-LUMO gap values"
   ]
  },
  {
   "cell_type": "code",
   "execution_count": 11,
   "metadata": {},
   "outputs": [
    {
     "data": {
      "text/plain": [
       "array([1.48029907, 4.63954029, 2.6068502 , ..., 4.00551514, 2.84631035,\n",
       "       2.69664776])"
      ]
     },
     "execution_count": 11,
     "metadata": {},
     "output_type": "execute_result"
    }
   ],
   "source": [
    "df_props['energeticGap (eV)'].values"
   ]
  },
  {
   "cell_type": "markdown",
   "metadata": {},
   "source": [
    "## Plot $r_{ND}$ vs HOMO-LUMO gap. Is there any correlation between them?"
   ]
  },
  {
   "cell_type": "code",
   "execution_count": 12,
   "metadata": {},
   "outputs": [
    {
     "data": {
      "image/png": "[encoded data removed]",
      "text/plain": [
       "<Figure size 237.6x237.6 with 1 Axes>"
      ]
     },
     "metadata": {
      "needs_background": "light"
     },
     "output_type": "display_data"
    }
   ],
   "source": [
    "fig = plt.figure(figsize=(3.3,3.3))\n",
    "gap = df_props['energeticGap (eV)'].values\n",
    "rnd = df_props['rND'].values\n",
    "plt.scatter(gap,rnd,edgecolors=None,c='b',alpha=0.2)\n",
    "plt.ylabel('$r_{ND}$ (unitless)')\n",
    "plt.xlabel('gap (eV)')\n",
    "plt.show()"
   ]
  },
  {
   "cell_type": "markdown",
   "metadata": {},
   "source": [
    "# Next we are going to try different ways to predict rND"
   ]
  },
  {
   "cell_type": "markdown",
   "metadata": {},
   "source": [
    "## Predict $r_{ND}$ from HOMO-LUMO gap with linear regression"
   ]
  },
  {
   "cell_type": "markdown",
   "metadata": {},
   "source": [
    "extract $r_{ND}$ and gap (eV) from database"
   ]
  },
  {
   "cell_type": "code",
   "execution_count": 13,
   "metadata": {},
   "outputs": [],
   "source": [
    "X = df_props['energeticGap (eV)'].values.reshape(-1, 1)\n",
    "y = df_props['rND'].values"
   ]
  },
  {
   "cell_type": "markdown",
   "metadata": {},
   "source": [
    "split into train and test dataset"
   ]
  },
  {
   "cell_type": "code",
   "execution_count": 14,
   "metadata": {},
   "outputs": [],
   "source": [
    "X_train, X_test, y_train, y_test = train_test_split(X, y, test_size=0.2, random_state=2)"
   ]
  },
  {
   "cell_type": "markdown",
   "metadata": {},
   "source": [
    "train linear regression model"
   ]
  },
  {
   "cell_type": "code",
   "execution_count": 15,
   "metadata": {},
   "outputs": [],
   "source": [
    "reg=linear_model.LinearRegression()\n",
    "reg=reg.fit(X_train, y_train)"
   ]
  },
  {
   "cell_type": "markdown",
   "metadata": {},
   "source": [
    "use linear regression to predict test data points"
   ]
  },
  {
   "cell_type": "code",
   "execution_count": 16,
   "metadata": {},
   "outputs": [],
   "source": [
    "y_predict = reg.predict(X_test)"
   ]
  },
  {
   "cell_type": "markdown",
   "metadata": {},
   "source": [
    "Mean square error for linear regression with one feature:"
   ]
  },
  {
   "cell_type": "code",
   "execution_count": 17,
   "metadata": {},
   "outputs": [
    {
     "data": {
      "text/plain": [
       "0.006563229201331953"
      ]
     },
     "execution_count": 17,
     "metadata": {},
     "output_type": "execute_result"
    }
   ],
   "source": [
    "np.mean(np.square(y_test-y_predict))"
   ]
  },
  {
   "cell_type": "code",
   "execution_count": 18,
   "metadata": {},
   "outputs": [
    {
     "data": {
      "image/png": "[encoded data removed]",
      "text/plain": [
       "<Figure size 237.6x237.6 with 1 Axes>"
      ]
     },
     "metadata": {
      "needs_background": "light"
     },
     "output_type": "display_data"
    }
   ],
   "source": [
    "\n",
    "\n",
    "fig = plt.figure(figsize=(3.3,3.3))\n",
    "plt.scatter(y_test,y_predict,edgecolors=None,c='b',alpha=0.2)\n",
    "xmin=0.1; xmax=0.6\n",
    "diag=np.linspace(xmin, xmax,100)\n",
    "plt.plot(diag,diag, color='gray')\n",
    "plt.xlim((xmin,xmax))\n",
    "plt.ylim((xmin,xmax))\n",
    "plt.ylabel('$r_{ND}$ (predicted)')\n",
    "plt.xlabel('$r_{ND}$ (real)')\n",
    "plt.show()"
   ]
  },
  {
   "cell_type": "markdown",
   "metadata": {},
   "source": [
    "## Predict $r_{ND}$ from all molecular features (157) from the data set with linear regression"
   ]
  },
  {
   "cell_type": "markdown",
   "metadata": {},
   "source": [
    "We expect more features will improve the result over just one feature above."
   ]
  },
  {
   "cell_type": "markdown",
   "metadata": {},
   "source": [
    "Figure out which features are used in original database"
   ]
  },
  {
   "cell_type": "code",
   "execution_count": 19,
   "metadata": {},
   "outputs": [],
   "source": [
    "def return_train_columns(df, cols_selected=False):\n",
    "    keys = ['RACs']\n",
    "    removed_columns = []\n",
    "    if not cols_selected:\n",
    "        return_columns = ['ligcharge', 'ox', 'spin']\n",
    "        for col in df.columns:\n",
    "            for key in keys:\n",
    "                if key in col and 'init' not in col and 'misc' not in col:\n",
    "                    if 'Zeff' not in col and '-O-' not in col:\n",
    "                        return_columns.append(col)\n",
    "    else:\n",
    "        print(\"Using input columns.\")\n",
    "        return_columns = cols_selected\n",
    "    print(\"inital: \", len(return_columns))\n",
    "    df = df.dropna(subset=return_columns)\n",
    "    thre = 1e-4\n",
    "    final_cols = []\n",
    "    for col in return_columns:\n",
    "        std = np.std(df[col].values)\n",
    "        if std < thre:\n",
    "            removed_columns.append(col)\n",
    "        else:\n",
    "            final_cols.append(col)\n",
    "    print(\"removed: \", removed_columns, len(removed_columns))\n",
    "    print(\"feature_used:\", final_cols, len(final_cols))\n",
    "    return final_cols, df"
   ]
  },
  {
   "cell_type": "markdown",
   "metadata": {},
   "source": [
    "extract all features from database"
   ]
  },
  {
   "cell_type": "code",
   "execution_count": 20,
   "metadata": {},
   "outputs": [
    {
     "name": "stdout",
     "output_type": "stream",
     "text": [
      "inital:  154\n",
      "removed:  [] 0\n",
      "feature_used: ['ligcharge', 'ox', 'spin', 'RACs.D_lc-S-1-ax', 'RACs.D_lc-S-1-eq', 'RACs.D_lc-S-2-ax', 'RACs.D_lc-S-2-eq', 'RACs.D_lc-S-3-ax', 'RACs.D_lc-S-3-eq', 'RACs.D_lc-T-1-ax', 'RACs.D_lc-T-1-eq', 'RACs.D_lc-T-2-ax', 'RACs.D_lc-T-2-eq', 'RACs.D_lc-T-3-ax', 'RACs.D_lc-T-3-eq', 'RACs.D_lc-Z-1-ax', 'RACs.D_lc-Z-1-eq', 'RACs.D_lc-Z-2-ax', 'RACs.D_lc-Z-2-eq', 'RACs.D_lc-Z-3-ax', 'RACs.D_lc-Z-3-eq', 'RACs.D_lc-chi-1-ax', 'RACs.D_lc-chi-1-eq', 'RACs.D_lc-chi-2-ax', 'RACs.D_lc-chi-2-eq', 'RACs.D_lc-chi-3-ax', 'RACs.D_lc-chi-3-eq', 'RACs.D_mc-S-1-all', 'RACs.D_mc-S-2-all', 'RACs.D_mc-S-3-all', 'RACs.D_mc-T-1-all', 'RACs.D_mc-T-2-all', 'RACs.D_mc-T-3-all', 'RACs.D_mc-Z-1-all', 'RACs.D_mc-Z-2-all', 'RACs.D_mc-Z-3-all', 'RACs.D_mc-chi-1-all', 'RACs.D_mc-chi-2-all', 'RACs.D_mc-chi-3-all', 'RACs.f-I-0-all', 'RACs.f-I-0-ax', 'RACs.f-I-0-eq', 'RACs.f-I-1-all', 'RACs.f-I-1-ax', 'RACs.f-I-1-eq', 'RACs.f-I-2-all', 'RACs.f-I-2-ax', 'RACs.f-I-2-eq', 'RACs.f-I-3-all', 'RACs.f-I-3-ax', 'RACs.f-I-3-eq', 'RACs.f-S-0-all', 'RACs.f-S-0-ax', 'RACs.f-S-0-eq', 'RACs.f-S-1-all', 'RACs.f-S-1-ax', 'RACs.f-S-1-eq', 'RACs.f-S-2-all', 'RACs.f-S-2-ax', 'RACs.f-S-2-eq', 'RACs.f-S-3-all', 'RACs.f-S-3-ax', 'RACs.f-S-3-eq', 'RACs.f-T-0-all', 'RACs.f-T-0-ax', 'RACs.f-T-0-eq', 'RACs.f-T-1-all', 'RACs.f-T-1-ax', 'RACs.f-T-1-eq', 'RACs.f-T-2-all', 'RACs.f-T-2-ax', 'RACs.f-T-2-eq', 'RACs.f-T-3-all', 'RACs.f-T-3-ax', 'RACs.f-T-3-eq', 'RACs.f-Z-0-all', 'RACs.f-Z-0-ax', 'RACs.f-Z-0-eq', 'RACs.f-Z-1-all', 'RACs.f-Z-1-ax', 'RACs.f-Z-1-eq', 'RACs.f-Z-2-all', 'RACs.f-Z-2-ax', 'RACs.f-Z-2-eq', 'RACs.f-Z-3-all', 'RACs.f-Z-3-ax', 'RACs.f-Z-3-eq', 'RACs.f-chi-0-all', 'RACs.f-chi-0-ax', 'RACs.f-chi-0-eq', 'RACs.f-chi-1-all', 'RACs.f-chi-1-ax', 'RACs.f-chi-1-eq', 'RACs.f-chi-2-all', 'RACs.f-chi-2-ax', 'RACs.f-chi-2-eq', 'RACs.f-chi-3-all', 'RACs.f-chi-3-ax', 'RACs.f-chi-3-eq', 'RACs.lc-I-1-ax', 'RACs.lc-I-1-eq', 'RACs.lc-I-2-ax', 'RACs.lc-I-2-eq', 'RACs.lc-I-3-ax', 'RACs.lc-I-3-eq', 'RACs.lc-S-0-ax', 'RACs.lc-S-0-eq', 'RACs.lc-S-1-ax', 'RACs.lc-S-1-eq', 'RACs.lc-S-2-ax', 'RACs.lc-S-2-eq', 'RACs.lc-S-3-ax', 'RACs.lc-S-3-eq', 'RACs.lc-T-0-ax', 'RACs.lc-T-0-eq', 'RACs.lc-T-1-ax', 'RACs.lc-T-1-eq', 'RACs.lc-T-2-ax', 'RACs.lc-T-2-eq', 'RACs.lc-T-3-ax', 'RACs.lc-T-3-eq', 'RACs.lc-Z-0-ax', 'RACs.lc-Z-0-eq', 'RACs.lc-Z-1-ax', 'RACs.lc-Z-1-eq', 'RACs.lc-Z-2-ax', 'RACs.lc-Z-2-eq', 'RACs.lc-Z-3-ax', 'RACs.lc-Z-3-eq', 'RACs.lc-chi-0-ax', 'RACs.lc-chi-0-eq', 'RACs.lc-chi-1-ax', 'RACs.lc-chi-1-eq', 'RACs.lc-chi-2-ax', 'RACs.lc-chi-2-eq', 'RACs.lc-chi-3-ax', 'RACs.lc-chi-3-eq', 'RACs.mc-I-2-all', 'RACs.mc-I-3-all', 'RACs.mc-S-0-all', 'RACs.mc-S-1-all', 'RACs.mc-S-2-all', 'RACs.mc-S-3-all', 'RACs.mc-T-1-all', 'RACs.mc-T-2-all', 'RACs.mc-T-3-all', 'RACs.mc-Z-0-all', 'RACs.mc-Z-1-all', 'RACs.mc-Z-2-all', 'RACs.mc-Z-3-all', 'RACs.mc-chi-0-all', 'RACs.mc-chi-1-all', 'RACs.mc-chi-2-all', 'RACs.mc-chi-3-all'] 154\n"
     ]
    }
   ],
   "source": [
    "cols_use, df = return_train_columns(df_features, cols_selected=False)\n",
    "X = np.array(df_features[cols_use].values)\n",
    "y= df_props['rND'].values"
   ]
  },
  {
   "cell_type": "markdown",
   "metadata": {},
   "source": [
    "train-test split and linear regression"
   ]
  },
  {
   "cell_type": "code",
   "execution_count": 21,
   "metadata": {},
   "outputs": [],
   "source": [
    "X_train, X_test, y_train, y_test = train_test_split(X, y, test_size=0.2, random_state=2)\n",
    "reg=linear_model.LinearRegression()\n",
    "reg.fit(X_train, y_train)\n",
    "y_predict = reg.predict(X_test)"
   ]
  },
  {
   "cell_type": "markdown",
   "metadata": {},
   "source": [
    "\n",
    "Using all features improves the result compared to using only one feature. Mean square error for all features:"
   ]
  },
  {
   "cell_type": "code",
   "execution_count": 22,
   "metadata": {},
   "outputs": [
    {
     "data": {
      "text/plain": [
       "0.005700580058759992"
      ]
     },
     "execution_count": 22,
     "metadata": {},
     "output_type": "execute_result"
    }
   ],
   "source": [
    "np.mean(np.square(y_test-y_predict))"
   ]
  },
  {
   "cell_type": "markdown",
   "metadata": {},
   "source": [
    "The number of features with non-zero contribution is high"
   ]
  },
  {
   "cell_type": "code",
   "execution_count": 23,
   "metadata": {},
   "outputs": [
    {
     "data": {
      "text/plain": [
       "(154,)"
      ]
     },
     "execution_count": 23,
     "metadata": {},
     "output_type": "execute_result"
    }
   ],
   "source": [
    "np.where(reg.coef_!=0)[0].shape"
   ]
  },
  {
   "cell_type": "code",
   "execution_count": 24,
   "metadata": {},
   "outputs": [
    {
     "data": {
      "image/png": "[encoded data removed]",
      "text/plain": [
       "<Figure size 237.6x237.6 with 1 Axes>"
      ]
     },
     "metadata": {
      "needs_background": "light"
     },
     "output_type": "display_data"
    }
   ],
   "source": [
    "fig = plt.figure(figsize=(3.3,3.3))\n",
    "plt.scatter(y_test,y_predict,edgecolors=None,c='b',alpha=0.2)\n",
    "xmin=0.1; xmax=0.6\n",
    "diag=np.linspace(xmin, xmax,100)\n",
    "plt.plot(diag,diag, color='gray')\n",
    "plt.xlim((xmin,xmax))\n",
    "plt.ylim((xmin,xmax))\n",
    "plt.ylabel('$r_{ND}$ (predicted)')\n",
    "plt.xlabel('$r_{ND}$ (real)')\n",
    "plt.show()"
   ]
  },
  {
   "cell_type": "markdown",
   "metadata": {},
   "source": [
    "## Predict $r_{ND}$ with Elastic Net Regularization"
   ]
  },
  {
   "cell_type": "code",
   "execution_count": 25,
   "metadata": {},
   "outputs": [],
   "source": [
    "from sklearn.linear_model import ElasticNet\n",
    "alpha = 0.001\n",
    "reg = ElasticNet(alpha=alpha, l1_ratio=1)"
   ]
  },
  {
   "cell_type": "code",
   "execution_count": 26,
   "metadata": {},
   "outputs": [
    {
     "name": "stderr",
     "output_type": "stream",
     "text": [
      "/home/euhruska/miniconda3/envs/dl2/lib/python3.9/site-packages/sklearn/linear_model/_coordinate_descent.py:645: ConvergenceWarning: Objective did not converge. You might want to increase the number of iterations, check the scale of the features or consider increasing regularisation. Duality gap: 8.153e+00, tolerance: 2.692e-03\n",
      "  model = cd_fast.enet_coordinate_descent(\n"
     ]
    }
   ],
   "source": [
    "reg.fit(X_train, y_train)\n",
    "y_predict = reg.predict(X_test)"
   ]
  },
  {
   "cell_type": "markdown",
   "metadata": {},
   "source": [
    "After adding Elastic Net regularization the error in this case study increases, but the number of features with non-zero contribution is significantly lower."
   ]
  },
  {
   "cell_type": "code",
   "execution_count": 27,
   "metadata": {},
   "outputs": [
    {
     "data": {
      "text/plain": [
       "0.004543314850586192"
      ]
     },
     "execution_count": 27,
     "metadata": {},
     "output_type": "execute_result"
    }
   ],
   "source": [
    "np.mean(np.square(y_test-y_predict))"
   ]
  },
  {
   "cell_type": "code",
   "execution_count": 28,
   "metadata": {},
   "outputs": [
    {
     "data": {
      "text/plain": [
       "(91,)"
      ]
     },
     "execution_count": 28,
     "metadata": {},
     "output_type": "execute_result"
    }
   ],
   "source": [
    "np.where(reg.coef_!=0)[0].shape"
   ]
  },
  {
   "cell_type": "code",
   "execution_count": 29,
   "metadata": {},
   "outputs": [
    {
     "data": {
      "image/png": "[encoded data removed]",
      "text/plain": [
       "<Figure size 237.6x237.6 with 1 Axes>"
      ]
     },
     "metadata": {
      "needs_background": "light"
     },
     "output_type": "display_data"
    }
   ],
   "source": [
    "fig = plt.figure(figsize=(3.3,3.3))\n",
    "plt.scatter(y_test,y_predict,edgecolors=None,c='b',alpha=0.2)\n",
    "xmin=0.1; xmax=0.6\n",
    "diag=np.linspace(xmin, xmax,100)\n",
    "plt.plot(diag,diag, color='gray')\n",
    "plt.xlim((xmin,xmax))\n",
    "plt.ylim((xmin,xmax))\n",
    "plt.ylabel('$r_{ND}$ (predicted)')\n",
    "plt.xlabel('$r_{ND}$ (real)')\n",
    "plt.show()"
   ]
  },
  {
   "cell_type": "markdown",
   "metadata": {},
   "source": [
    "## Predict $r_{ND}$ from selected molecule features (65 optimal features selected based on performance) with linear regression"
   ]
  },
  {
   "cell_type": "code",
   "execution_count": 30,
   "metadata": {},
   "outputs": [
    {
     "name": "stdout",
     "output_type": "stream",
     "text": [
      "Using input columns.\n",
      "inital:  65\n",
      "removed:  [] 0\n",
      "feature_used: ['ligcharge', 'ox', 'spin', 'RACs.mc-Z-0-all', 'RACs.mc-S-0-all', 'RACs.f-chi-3-all', 'RACs.D_mc-Z-1-all', 'RACs.D_mc-S-1-all', 'RACs.f-Z-1-all', 'RACs.f-Z-0-all', 'RACs.f-chi-1-all', 'RACs.f-chi-0-all', 'RACs.f-chi-2-all', 'RACs.f-Z-2-all', 'RACs.D_mc-chi-2-all', 'RACs.mc-chi-2-all', 'RACs.mc-chi-1-all', 'RACs.f-S-0-all', 'RACs.f-S-2-all', 'RACs.D_mc-chi-1-all', 'RACs.mc-Z-1-all', 'RACs.f-S-1-all', 'RACs.f-S-3-all', 'RACs.f-Z-3-all', 'RACs.D_mc-S-2-all', 'RACs.D_mc-Z-2-all', 'RACs.f-I-2-all', 'RACs.f-I-0-all', 'RACs.mc-Z-2-all', 'RACs.f-chi-0-eq', 'RACs.f-I-3-all', 'RACs.f-T-3-all', 'RACs.lc-S-3-eq', 'RACs.mc-chi-3-all', 'RACs.f-T-0-all', 'RACs.D_mc-chi-3-all', 'RACs.D_mc-S-3-all', 'RACs.D_mc-Z-3-all', 'RACs.f-I-1-all', 'RACs.lc-chi-2-eq', 'RACs.D_lc-S-2-ax', 'RACs.mc-T-2-all', 'RACs.D_lc-S-2-eq', 'RACs.D_lc-chi-2-ax', 'RACs.D_lc-Z-2-ax', 'RACs.D_lc-Z-2-eq', 'RACs.D_lc-chi-2-eq', 'RACs.f-Z-3-eq', 'RACs.lc-T-3-eq', 'RACs.mc-I-3-all', 'RACs.f-Z-3-ax', 'RACs.D_lc-T-3-ax', 'RACs.mc-T-3-all', 'RACs.mc-chi-0-all', 'RACs.mc-S-1-all', 'RACs.f-T-2-all', 'RACs.f-T-1-all', 'RACs.mc-Z-3-all', 'RACs.f-T-3-ax', 'RACs.mc-S-2-all', 'RACs.f-Z-1-ax', 'RACs.mc-S-3-all', 'RACs.D_mc-T-3-all', 'RACs.f-Z-2-ax', 'RACs.f-T-3-eq'] 65\n"
     ]
    }
   ],
   "source": [
    "rfa_features = [\"ligcharge\",\"ox\",\"spin\",\"RACs.mc-Z-0-all\",\"RACs.mc-S-0-all\",\"RACs.f-chi-3-all\",\"RACs.D_mc-Z-1-all\",\"RACs.D_mc-S-1-all\",\"RACs.f-Z-1-all\",\"RACs.f-Z-0-all\",\"RACs.f-chi-1-all\",\"RACs.f-chi-0-all\",\"RACs.f-chi-2-all\",\"RACs.f-Z-2-all\",\"RACs.D_mc-chi-2-all\",\"RACs.mc-chi-2-all\",\"RACs.mc-chi-1-all\",\"RACs.f-S-0-all\",\"RACs.f-S-2-all\",\"RACs.D_mc-chi-1-all\",\"RACs.mc-Z-1-all\",\"RACs.f-S-1-all\",\"RACs.f-S-3-all\",\"RACs.f-Z-3-all\",\"RACs.D_mc-S-2-all\",\"RACs.D_mc-Z-2-all\",\"RACs.f-I-2-all\",\"RACs.f-I-0-all\",\"RACs.mc-Z-2-all\",\"RACs.f-chi-0-eq\",\"RACs.f-I-3-all\",\"RACs.f-T-3-all\",\"RACs.lc-S-3-eq\",\"RACs.mc-chi-3-all\",\"RACs.f-T-0-all\",\"RACs.D_mc-chi-3-all\",\"RACs.D_mc-S-3-all\",\"RACs.D_mc-Z-3-all\",\"RACs.f-I-1-all\",\"RACs.lc-chi-2-eq\",\"RACs.D_lc-S-2-ax\",\"RACs.mc-T-2-all\",\"RACs.D_lc-S-2-eq\",\"RACs.D_lc-chi-2-ax\",\"RACs.D_lc-Z-2-ax\",\"RACs.D_lc-Z-2-eq\",\"RACs.D_lc-chi-2-eq\",\"RACs.f-Z-3-eq\",\"RACs.lc-T-3-eq\",\"RACs.mc-I-3-all\",\"RACs.f-Z-3-ax\",\"RACs.D_lc-T-3-ax\",\"RACs.mc-T-3-all\",\"RACs.mc-chi-0-all\",\"RACs.mc-S-1-all\",\"RACs.f-T-2-all\",\"RACs.f-T-1-all\",\"RACs.mc-Z-3-all\",\"RACs.f-T-3-ax\",\"RACs.mc-S-2-all\",\"RACs.f-Z-1-ax\",\"RACs.mc-S-3-all\",\"RACs.D_mc-T-3-all\",\"RACs.f-Z-2-ax\",\"RACs.f-T-3-eq\"]\n",
    "\n",
    "cols_use, df = return_train_columns(df_features, cols_selected=rfa_features)\n",
    "X = np.array(df_features[cols_use].values)\n",
    "y= df_props['rND'].values"
   ]
  },
  {
   "cell_type": "code",
   "execution_count": 31,
   "metadata": {},
   "outputs": [],
   "source": [
    "X_train, X_test, y_train, y_test = train_test_split(X, y, test_size=0.2, random_state=2)\n",
    "reg=linear_model.LinearRegression()\n",
    "reg.fit(X_train, y_train)\n",
    "y_predict = reg.predict(X_test)"
   ]
  },
  {
   "cell_type": "markdown",
   "metadata": {},
   "source": [
    "\n",
    "Using optimal features improves the result compared to using all features. Mean square error for optimal features:"
   ]
  },
  {
   "cell_type": "code",
   "execution_count": 32,
   "metadata": {},
   "outputs": [
    {
     "data": {
      "text/plain": [
       "0.0045008286701073924"
      ]
     },
     "execution_count": 32,
     "metadata": {},
     "output_type": "execute_result"
    }
   ],
   "source": [
    "np.mean(np.square(y_test-y_predict))"
   ]
  },
  {
   "cell_type": "code",
   "execution_count": 33,
   "metadata": {},
   "outputs": [
    {
     "data": {
      "image/png": "[encoded data removed]",
      "text/plain": [
       "<Figure size 237.6x237.6 with 1 Axes>"
      ]
     },
     "metadata": {
      "needs_background": "light"
     },
     "output_type": "display_data"
    }
   ],
   "source": [
    "fig = plt.figure(figsize=(3.3,3.3))\n",
    "plt.scatter(y_test,y_predict,edgecolors=None,c='b',alpha=0.2)\n",
    "xmin=0.1; xmax=0.6\n",
    "diag=np.linspace(xmin, xmax,100)\n",
    "plt.plot(diag,diag, color='gray')\n",
    "plt.xlim((xmin,xmax))\n",
    "plt.ylim((xmin,xmax))\n",
    "plt.ylabel('$r_{ND}$ (predicted)')\n",
    "plt.xlabel('$r_{ND}$ (real)')\n",
    "plt.show()"
   ]
  },
  {
   "cell_type": "markdown",
   "metadata": {},
   "source": [
    "## Comparison with Kernel ridge regression (KRR) model to predict $r_{ND}$ from the RACS features "
   ]
  },
  {
   "cell_type": "code",
   "execution_count": 34,
   "metadata": {},
   "outputs": [],
   "source": [
    "def prepare_data(df, x_scaler, cols_selected=False):\n",
    "    np.random.seed(0)\n",
    "    cols_use, df = return_train_columns(df, cols_selected)\n",
    "    X = np.array(df[cols_use].values)\n",
    "    X_scaled = x_scaler.transform(X)\n",
    "    return X_scaled, cols_use\n",
    "\n",
    "def predict(model_filename, df, x_scaler_filename, y_scaler_filename,y , cols_selected=False):\n",
    "    x_scaler = pickle.load(open(x_scaler_filename,'rb'))\n",
    "    y_scaler = pickle.load(open(y_scaler_filename,'rb'))\n",
    "    krr = pickle.load(open(model_filename,'rb'))\n",
    "    X_scaled, cols_use =  prepare_data(df, x_scaler, cols_selected=cols_selected)\n",
    "    X_scaled_train, X_scaled_test, y_train, y_test = train_test_split(X_scaled,y, test_size=0.2, random_state=1)\n",
    "    y_predict_scaled = krr.predict(X_scaled_test)\n",
    "    y_predict = y_scaler.inverse_transform(y_predict_scaled)[:,0]\n",
    "    return y_predict, y_test\n"
   ]
  },
  {
   "cell_type": "code",
   "execution_count": 35,
   "metadata": {},
   "outputs": [
    {
     "ename": "ModuleNotFoundError",
     "evalue": "No module named 'sklearn.preprocessing.data'",
     "output_type": "error",
     "traceback": [
      "\u001b[0;31m---------------------------------------------------------------------------\u001b[0m",
      "\u001b[0;31mModuleNotFoundError\u001b[0m                       Traceback (most recent call last)",
      "\u001b[0;32m/tmp/ipykernel_98988/2329629327.py\u001b[0m in \u001b[0;36m<module>\u001b[0;34m\u001b[0m\n\u001b[1;32m      4\u001b[0m \u001b[0;31m# Note we are not using all features. We are using the selected features verified to be optimal\u001b[0m\u001b[0;34m\u001b[0m\u001b[0;34m\u001b[0m\u001b[0m\n\u001b[1;32m      5\u001b[0m \u001b[0mrfa_features\u001b[0m \u001b[0;34m=\u001b[0m \u001b[0;34m[\u001b[0m\u001b[0;34m\"ligcharge\"\u001b[0m\u001b[0;34m,\u001b[0m\u001b[0;34m\"ox\"\u001b[0m\u001b[0;34m,\u001b[0m\u001b[0;34m\"spin\"\u001b[0m\u001b[0;34m,\u001b[0m\u001b[0;34m\"RACs.mc-Z-0-all\"\u001b[0m\u001b[0;34m,\u001b[0m\u001b[0;34m\"RACs.mc-S-0-all\"\u001b[0m\u001b[0;34m,\u001b[0m\u001b[0;34m\"RACs.f-chi-3-all\"\u001b[0m\u001b[0;34m,\u001b[0m\u001b[0;34m\"RACs.D_mc-Z-1-all\"\u001b[0m\u001b[0;34m,\u001b[0m\u001b[0;34m\"RACs.D_mc-S-1-all\"\u001b[0m\u001b[0;34m,\u001b[0m\u001b[0;34m\"RACs.f-Z-1-all\"\u001b[0m\u001b[0;34m,\u001b[0m\u001b[0;34m\"RACs.f-Z-0-all\"\u001b[0m\u001b[0;34m,\u001b[0m\u001b[0;34m\"RACs.f-chi-1-all\"\u001b[0m\u001b[0;34m,\u001b[0m\u001b[0;34m\"RACs.f-chi-0-all\"\u001b[0m\u001b[0;34m,\u001b[0m\u001b[0;34m\"RACs.f-chi-2-all\"\u001b[0m\u001b[0;34m,\u001b[0m\u001b[0;34m\"RACs.f-Z-2-all\"\u001b[0m\u001b[0;34m,\u001b[0m\u001b[0;34m\"RACs.D_mc-chi-2-all\"\u001b[0m\u001b[0;34m,\u001b[0m\u001b[0;34m\"RACs.mc-chi-2-all\"\u001b[0m\u001b[0;34m,\u001b[0m\u001b[0;34m\"RACs.mc-chi-1-all\"\u001b[0m\u001b[0;34m,\u001b[0m\u001b[0;34m\"RACs.f-S-0-all\"\u001b[0m\u001b[0;34m,\u001b[0m\u001b[0;34m\"RACs.f-S-2-all\"\u001b[0m\u001b[0;34m,\u001b[0m\u001b[0;34m\"RACs.D_mc-chi-1-all\"\u001b[0m\u001b[0;34m,\u001b[0m\u001b[0;34m\"RACs.mc-Z-1-all\"\u001b[0m\u001b[0;34m,\u001b[0m\u001b[0;34m\"RACs.f-S-1-all\"\u001b[0m\u001b[0;34m,\u001b[0m\u001b[0;34m\"RACs.f-S-3-all\"\u001b[0m\u001b[0;34m,\u001b[0m\u001b[0;34m\"RACs.f-Z-3-all\"\u001b[0m\u001b[0;34m,\u001b[0m\u001b[0;34m\"RACs.D_mc-S-2-all\"\u001b[0m\u001b[0;34m,\u001b[0m\u001b[0;34m\"RACs.D_mc-Z-2-all\"\u001b[0m\u001b[0;34m,\u001b[0m\u001b[0;34m\"RACs.f-I-2-all\"\u001b[0m\u001b[0;34m,\u001b[0m\u001b[0;34m\"RACs.f-I-0-all\"\u001b[0m\u001b[0;34m,\u001b[0m\u001b[0;34m\"RACs.mc-Z-2-all\"\u001b[0m\u001b[0;34m,\u001b[0m\u001b[0;34m\"RACs.f-chi-0-eq\"\u001b[0m\u001b[0;34m,\u001b[0m\u001b[0;34m\"RACs.f-I-3-all\"\u001b[0m\u001b[0;34m,\u001b[0m\u001b[0;34m\"RACs.f-T-3-all\"\u001b[0m\u001b[0;34m,\u001b[0m\u001b[0;34m\"RACs.lc-S-3-eq\"\u001b[0m\u001b[0;34m,\u001b[0m\u001b[0;34m\"RACs.mc-chi-3-all\"\u001b[0m\u001b[0;34m,\u001b[0m\u001b[0;34m\"RACs.f-T-0-all\"\u001b[0m\u001b[0;34m,\u001b[0m\u001b[0;34m\"RACs.D_mc-chi-3-all\"\u001b[0m\u001b[0;34m,\u001b[0m\u001b[0;34m\"RACs.D_mc-S-3-all\"\u001b[0m\u001b[0;34m,\u001b[0m\u001b[0;34m\"RACs.D_mc-Z-3-all\"\u001b[0m\u001b[0;34m,\u001b[0m\u001b[0;34m\"RACs.f-I-1-all\"\u001b[0m\u001b[0;34m,\u001b[0m\u001b[0;34m\"RACs.lc-chi-2-eq\"\u001b[0m\u001b[0;34m,\u001b[0m\u001b[0;34m\"RACs.D_lc-S-2-ax\"\u001b[0m\u001b[0;34m,\u001b[0m\u001b[0;34m\"RACs.mc-T-2-all\"\u001b[0m\u001b[0;34m,\u001b[0m\u001b[0;34m\"RACs.D_lc-S-2-eq\"\u001b[0m\u001b[0;34m,\u001b[0m\u001b[0;34m\"RACs.D_lc-chi-2-ax\"\u001b[0m\u001b[0;34m,\u001b[0m\u001b[0;34m\"RACs.D_lc-Z-2-ax\"\u001b[0m\u001b[0;34m,\u001b[0m\u001b[0;34m\"RACs.D_lc-Z-2-eq\"\u001b[0m\u001b[0;34m,\u001b[0m\u001b[0;34m\"RACs.D_lc-chi-2-eq\"\u001b[0m\u001b[0;34m,\u001b[0m\u001b[0;34m\"RACs.f-Z-3-eq\"\u001b[0m\u001b[0;34m,\u001b[0m\u001b[0;34m\"RACs.lc-T-3-eq\"\u001b[0m\u001b[0;34m,\u001b[0m\u001b[0;34m\"RACs.mc-I-3-all\"\u001b[0m\u001b[0;34m,\u001b[0m\u001b[0;34m\"RACs.f-Z-3-ax\"\u001b[0m\u001b[0;34m,\u001b[0m\u001b[0;34m\"RACs.D_lc-T-3-ax\"\u001b[0m\u001b[0;34m,\u001b[0m\u001b[0;34m\"RACs.mc-T-3-all\"\u001b[0m\u001b[0;34m,\u001b[0m\u001b[0;34m\"RACs.mc-chi-0-all\"\u001b[0m\u001b[0;34m,\u001b[0m\u001b[0;34m\"RACs.mc-S-1-all\"\u001b[0m\u001b[0;34m,\u001b[0m\u001b[0;34m\"RACs.f-T-2-all\"\u001b[0m\u001b[0;34m,\u001b[0m\u001b[0;34m\"RACs.f-T-1-all\"\u001b[0m\u001b[0;34m,\u001b[0m\u001b[0;34m\"RACs.mc-Z-3-all\"\u001b[0m\u001b[0;34m,\u001b[0m\u001b[0;34m\"RACs.f-T-3-ax\"\u001b[0m\u001b[0;34m,\u001b[0m\u001b[0;34m\"RACs.mc-S-2-all\"\u001b[0m\u001b[0;34m,\u001b[0m\u001b[0;34m\"RACs.f-Z-1-ax\"\u001b[0m\u001b[0;34m,\u001b[0m\u001b[0;34m\"RACs.mc-S-3-all\"\u001b[0m\u001b[0;34m,\u001b[0m\u001b[0;34m\"RACs.D_mc-T-3-all\"\u001b[0m\u001b[0;34m,\u001b[0m\u001b[0;34m\"RACs.f-Z-2-ax\"\u001b[0m\u001b[0;34m,\u001b[0m\u001b[0;34m\"RACs.f-T-3-eq\"\u001b[0m\u001b[0;34m]\u001b[0m\u001b[0;34m\u001b[0m\u001b[0;34m\u001b[0m\u001b[0m\n\u001b[0;32m----> 6\u001b[0;31m \u001b[0my_predict\u001b[0m\u001b[0;34m,\u001b[0m \u001b[0my_test\u001b[0m \u001b[0;34m=\u001b[0m \u001b[0mpredict\u001b[0m\u001b[0;34m(\u001b[0m\u001b[0mmodelfile\u001b[0m\u001b[0;34m,\u001b[0m \u001b[0mdf_features\u001b[0m\u001b[0;34m,\u001b[0m \u001b[0mx_scaler_filename\u001b[0m\u001b[0;34m,\u001b[0m \u001b[0my_scaler_filename\u001b[0m\u001b[0;34m,\u001b[0m\u001b[0my\u001b[0m\u001b[0;34m,\u001b[0m \u001b[0mcols_selected\u001b[0m\u001b[0;34m=\u001b[0m\u001b[0mrfa_features\u001b[0m\u001b[0;34m)\u001b[0m\u001b[0;34m\u001b[0m\u001b[0;34m\u001b[0m\u001b[0m\n\u001b[0m",
      "\u001b[0;32m/tmp/ipykernel_98988/4190911616.py\u001b[0m in \u001b[0;36mpredict\u001b[0;34m(model_filename, df, x_scaler_filename, y_scaler_filename, y, cols_selected)\u001b[0m\n\u001b[1;32m      7\u001b[0m \u001b[0;34m\u001b[0m\u001b[0m\n\u001b[1;32m      8\u001b[0m \u001b[0;32mdef\u001b[0m \u001b[0mpredict\u001b[0m\u001b[0;34m(\u001b[0m\u001b[0mmodel_filename\u001b[0m\u001b[0;34m,\u001b[0m \u001b[0mdf\u001b[0m\u001b[0;34m,\u001b[0m \u001b[0mx_scaler_filename\u001b[0m\u001b[0;34m,\u001b[0m \u001b[0my_scaler_filename\u001b[0m\u001b[0;34m,\u001b[0m\u001b[0my\u001b[0m \u001b[0;34m,\u001b[0m \u001b[0mcols_selected\u001b[0m\u001b[0;34m=\u001b[0m\u001b[0;32mFalse\u001b[0m\u001b[0;34m)\u001b[0m\u001b[0;34m:\u001b[0m\u001b[0;34m\u001b[0m\u001b[0;34m\u001b[0m\u001b[0m\n\u001b[0;32m----> 9\u001b[0;31m     \u001b[0mx_scaler\u001b[0m \u001b[0;34m=\u001b[0m \u001b[0mpickle\u001b[0m\u001b[0;34m.\u001b[0m\u001b[0mload\u001b[0m\u001b[0;34m(\u001b[0m\u001b[0mopen\u001b[0m\u001b[0;34m(\u001b[0m\u001b[0mx_scaler_filename\u001b[0m\u001b[0;34m,\u001b[0m\u001b[0;34m'rb'\u001b[0m\u001b[0;34m)\u001b[0m\u001b[0;34m)\u001b[0m\u001b[0;34m\u001b[0m\u001b[0;34m\u001b[0m\u001b[0m\n\u001b[0m\u001b[1;32m     10\u001b[0m     \u001b[0my_scaler\u001b[0m \u001b[0;34m=\u001b[0m \u001b[0mpickle\u001b[0m\u001b[0;34m.\u001b[0m\u001b[0mload\u001b[0m\u001b[0;34m(\u001b[0m\u001b[0mopen\u001b[0m\u001b[0;34m(\u001b[0m\u001b[0my_scaler_filename\u001b[0m\u001b[0;34m,\u001b[0m\u001b[0;34m'rb'\u001b[0m\u001b[0;34m)\u001b[0m\u001b[0;34m)\u001b[0m\u001b[0;34m\u001b[0m\u001b[0;34m\u001b[0m\u001b[0m\n\u001b[1;32m     11\u001b[0m     \u001b[0mkrr\u001b[0m \u001b[0;34m=\u001b[0m \u001b[0mpickle\u001b[0m\u001b[0;34m.\u001b[0m\u001b[0mload\u001b[0m\u001b[0;34m(\u001b[0m\u001b[0mopen\u001b[0m\u001b[0;34m(\u001b[0m\u001b[0mmodel_filename\u001b[0m\u001b[0;34m,\u001b[0m\u001b[0;34m'rb'\u001b[0m\u001b[0;34m)\u001b[0m\u001b[0;34m)\u001b[0m\u001b[0;34m\u001b[0m\u001b[0;34m\u001b[0m\u001b[0m\n",
      "\u001b[0;31mModuleNotFoundError\u001b[0m: No module named 'sklearn.preprocessing.data'"
     ]
    }
   ],
   "source": [
    "\n",
    "modelfile = os.path.join(modelpath,'Data/models/KRR/MD2_rND_krr_model/MD2_rND_krr.pkl')\n",
    "x_scaler_filename =  os.path.join(modelpath,'Data/models/KRR/MD2_rND_krr_model/x_scaler.pkl')\n",
    "y_scaler_filename =  os.path.join(modelpath,'Data/models/KRR/MD2_rND_krr_model/y_scaler.pkl')\n",
    "# Note we are not using all features. We are using the selected features verified to be optimal\n",
    "rfa_features = [\"ligcharge\",\"ox\",\"spin\",\"RACs.mc-Z-0-all\",\"RACs.mc-S-0-all\",\"RACs.f-chi-3-all\",\"RACs.D_mc-Z-1-all\",\"RACs.D_mc-S-1-all\",\"RACs.f-Z-1-all\",\"RACs.f-Z-0-all\",\"RACs.f-chi-1-all\",\"RACs.f-chi-0-all\",\"RACs.f-chi-2-all\",\"RACs.f-Z-2-all\",\"RACs.D_mc-chi-2-all\",\"RACs.mc-chi-2-all\",\"RACs.mc-chi-1-all\",\"RACs.f-S-0-all\",\"RACs.f-S-2-all\",\"RACs.D_mc-chi-1-all\",\"RACs.mc-Z-1-all\",\"RACs.f-S-1-all\",\"RACs.f-S-3-all\",\"RACs.f-Z-3-all\",\"RACs.D_mc-S-2-all\",\"RACs.D_mc-Z-2-all\",\"RACs.f-I-2-all\",\"RACs.f-I-0-all\",\"RACs.mc-Z-2-all\",\"RACs.f-chi-0-eq\",\"RACs.f-I-3-all\",\"RACs.f-T-3-all\",\"RACs.lc-S-3-eq\",\"RACs.mc-chi-3-all\",\"RACs.f-T-0-all\",\"RACs.D_mc-chi-3-all\",\"RACs.D_mc-S-3-all\",\"RACs.D_mc-Z-3-all\",\"RACs.f-I-1-all\",\"RACs.lc-chi-2-eq\",\"RACs.D_lc-S-2-ax\",\"RACs.mc-T-2-all\",\"RACs.D_lc-S-2-eq\",\"RACs.D_lc-chi-2-ax\",\"RACs.D_lc-Z-2-ax\",\"RACs.D_lc-Z-2-eq\",\"RACs.D_lc-chi-2-eq\",\"RACs.f-Z-3-eq\",\"RACs.lc-T-3-eq\",\"RACs.mc-I-3-all\",\"RACs.f-Z-3-ax\",\"RACs.D_lc-T-3-ax\",\"RACs.mc-T-3-all\",\"RACs.mc-chi-0-all\",\"RACs.mc-S-1-all\",\"RACs.f-T-2-all\",\"RACs.f-T-1-all\",\"RACs.mc-Z-3-all\",\"RACs.f-T-3-ax\",\"RACs.mc-S-2-all\",\"RACs.f-Z-1-ax\",\"RACs.mc-S-3-all\",\"RACs.D_mc-T-3-all\",\"RACs.f-Z-2-ax\",\"RACs.f-T-3-eq\"]\n",
    "y_predict, y_test = predict(modelfile, df_features, x_scaler_filename, y_scaler_filename,y, cols_selected=rfa_features)"
   ]
  },
  {
   "cell_type": "markdown",
   "metadata": {},
   "source": [
    "Using Kernel ridge regression (KRR) improves the result compared to linear regression. Mean square error for KRR model"
   ]
  },
  {
   "cell_type": "code",
   "execution_count": null,
   "metadata": {},
   "outputs": [],
   "source": [
    "np.mean(np.square(y_test-y_predict))"
   ]
  },
  {
   "cell_type": "markdown",
   "metadata": {},
   "source": [
    "Improved result is visible in the plot."
   ]
  },
  {
   "cell_type": "code",
   "execution_count": null,
   "metadata": {},
   "outputs": [],
   "source": [
    "plt.scatter(y_test,y_predict,edgecolors=None,c='b',alpha=0.2)\n",
    "xmin=0.1; xmax=0.6\n",
    "diag=np.linspace(xmin, xmax,100)\n",
    "plt.plot(diag,diag, color='gray')\n",
    "plt.xlim((xmin,xmax))\n",
    "plt.ylim((xmin,xmax))\n",
    "plt.ylabel('$r_{ND}$ (predicted)')\n",
    "plt.xlabel('$r_{ND}$ (real)')\n",
    "plt.show()"
   ]
  },
  {
   "cell_type": "code",
   "execution_count": null,
   "metadata": {},
   "outputs": [],
   "source": []
  }
 ],
 "metadata": {
  "kernelspec": {
   "display_name": "Python 3 (ipykernel)",
   "language": "python",
   "name": "python3"
  },
  "language_info": {
   "codemirror_mode": {
    "name": "ipython",
    "version": 3
   },
   "file_extension": ".py",
   "mimetype": "text/x-python",
   "name": "python",
   "nbconvert_exporter": "python",
   "pygments_lexer": "ipython3",
   "version": "3.9.7"
  }
 },
 "nbformat": 4,
 "nbformat_minor": 4
}
