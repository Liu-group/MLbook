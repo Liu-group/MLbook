{
 "cells": [
  {
   "cell_type": "code",
   "execution_count": 1,
   "metadata": {},
   "outputs": [],
   "source": [
    "import operator\n",
    "import numpy as np\n",
    "import sklearn.preprocessing\n",
    "import sklearn.utils\n",
    "from sklearn.decomposition import PCA \n",
    "from sklearn.kernel_ridge import KernelRidge\n",
    "from sklearn.metrics import mean_absolute_error, accuracy_score\n",
    "import sklearn.metrics as sklm\n",
    "from sklearn.ensemble import RandomForestRegressor\n",
    "from sklearn import linear_model\n",
    "from sklearn.model_selection import train_test_split\n",
    "from functools import partial\n",
    "from scipy.stats import pearsonr\n",
    "import matplotlib.pyplot as plt\n",
    "import pickle\n",
    "import os\n",
    "from matplotlib import rc\n",
    "import matplotlib\n",
    "import pandas as pd"
   ]
  },
  {
   "cell_type": "code",
   "execution_count": 2,
   "metadata": {},
   "outputs": [],
   "source": [
    "fs = 10 # font size\n",
    "fs_label = 10 # tick label size\n",
    "fs_lgd = 10 # legend font size\n",
    "ss = 20 # symbol size\n",
    "ts = 3 # tick size\n",
    "slw = 1 # symbol line width\n",
    "framelw = 1 # line width of frame\n",
    "lw = 2 # line width of the bar box\n",
    "rc('axes', linewidth=framelw)\n",
    "plt.rcParams.update({\n",
    "    \"text.usetex\": False,\n",
    "    \"font.family\": \"sans-serif\",\n",
    "    \"font.sans-serif\": [\"Helvetica\"],\n",
    "    \"font.weight\":\"bold\",\n",
    "    \"axes.labelweight\":\"bold\",\n",
    "    \"font.size\":fs,\n",
    "    'pdf.fonttype':'truetype'\n",
    "})\n",
    "plt.rcParams['mathtext.fontset']='stix'"
   ]
  },
  {
   "cell_type": "markdown",
   "metadata": {},
   "source": [
    "# Download Data and load data into Pandas\n",
    "\n",
    "We will use the Supporting Information Data of Download the data from the following reference, \n",
    "\n",
    "* Fang Liu, Chenru Duan, and Heather J. Kulik\n",
    "The Journal of Physical Chemistry Letters 2020 11 (19), 8067-8076\n",
    "DOI: 10.1021/acs.jpclett.0c02288\n",
    "\n",
    "The Supporting Information data is free of charge and opensource, execute next cell to download and unzip from following URL https://pubs.acs.org/doi/suppl/10.1021/acs.jpclett.0c02288/suppl_file/jz0c02288_si_002.zip"
   ]
  },
  {
   "cell_type": "code",
   "execution_count": 3,
   "metadata": {},
   "outputs": [],
   "source": [
    "%%capture\n",
    "!mkdir models\n",
    "!wget  https://pubs.acs.org/doi/suppl/10.1021/acs.jpclett.0c02288/suppl_file/jz0c02288_si_002.zip -P models\n",
    "!unzip models/jz0c02288_si_002.zip -d models"
   ]
  },
  {
   "cell_type": "code",
   "execution_count": 3,
   "metadata": {},
   "outputs": [],
   "source": [
    "datapath = '' # path to your data folder\n",
    "modelpath = os.path.join(datapath,'models')\n",
    "filein=modelpath+'/Data/refined_datasets/refined_features.csv' # read in the CSV file containing the features. This file is just for example\n",
    "df_features = pd.read_csv(filein)\n",
    "\n",
    "filein2=modelpath+'/Data/refined_datasets/refined_properties.csv' # read in the CSV file containing the properties. This file is just for example\n",
    "df_props = pd.read_csv(filein2)"
   ]
  },
  {
   "cell_type": "markdown",
   "metadata": {},
   "source": [
    "## Take a look at the features"
   ]
  },
  {
   "cell_type": "code",
   "execution_count": 4,
   "metadata": {},
   "outputs": [
    {
     "data": {
      "text/plain": [
       "(4865, 157)"
      ]
     },
     "execution_count": 4,
     "metadata": {},
     "output_type": "execute_result"
    }
   ],
   "source": [
    "df_features.shape"
   ]
  },
  {
   "cell_type": "code",
   "execution_count": 5,
   "metadata": {},
   "outputs": [
    {
     "data": {
      "text/html": [
       "<div>\n",
       "<style scoped>\n",
       "    .dataframe tbody tr th:only-of-type {\n",
       "        vertical-align: middle;\n",
       "    }\n",
       "\n",
       "    .dataframe tbody tr th {\n",
       "        vertical-align: top;\n",
       "    }\n",
       "\n",
       "    .dataframe thead th {\n",
       "        text-align: right;\n",
       "    }\n",
       "</style>\n",
       "<table border=\"1\" class=\"dataframe\">\n",
       "  <thead>\n",
       "    <tr style=\"text-align: right;\">\n",
       "      <th></th>\n",
       "      <th>id</th>\n",
       "      <th>name</th>\n",
       "      <th>set</th>\n",
       "      <th>ligcharge</th>\n",
       "      <th>ox</th>\n",
       "      <th>spin</th>\n",
       "      <th>RACs.D_lc-S-1-ax</th>\n",
       "      <th>RACs.D_lc-S-1-eq</th>\n",
       "      <th>RACs.D_lc-S-2-ax</th>\n",
       "      <th>RACs.D_lc-S-2-eq</th>\n",
       "      <th>...</th>\n",
       "      <th>RACs.mc-T-2-all</th>\n",
       "      <th>RACs.mc-T-3-all</th>\n",
       "      <th>RACs.mc-Z-0-all</th>\n",
       "      <th>RACs.mc-Z-1-all</th>\n",
       "      <th>RACs.mc-Z-2-all</th>\n",
       "      <th>RACs.mc-Z-3-all</th>\n",
       "      <th>RACs.mc-chi-0-all</th>\n",
       "      <th>RACs.mc-chi-1-all</th>\n",
       "      <th>RACs.mc-chi-2-all</th>\n",
       "      <th>RACs.mc-chi-3-all</th>\n",
       "    </tr>\n",
       "  </thead>\n",
       "  <tbody>\n",
       "    <tr>\n",
       "      <th>0</th>\n",
       "      <td>0</td>\n",
       "      <td>metal_fe_ox_3_spin_6_ligstr_pyr_pyr_pyr_pyr_ca...</td>\n",
       "      <td>MD1</td>\n",
       "      <td>0</td>\n",
       "      <td>3</td>\n",
       "      <td>6</td>\n",
       "      <td>0.04</td>\n",
       "      <td>-0.04</td>\n",
       "      <td>0.00</td>\n",
       "      <td>0.72</td>\n",
       "      <td>...</td>\n",
       "      <td>156</td>\n",
       "      <td>192</td>\n",
       "      <td>676</td>\n",
       "      <td>1040</td>\n",
       "      <td>1664</td>\n",
       "      <td>1456</td>\n",
       "      <td>3.3489</td>\n",
       "      <td>31.5858</td>\n",
       "      <td>49.9224</td>\n",
       "      <td>69.540</td>\n",
       "    </tr>\n",
       "    <tr>\n",
       "      <th>1</th>\n",
       "      <td>1</td>\n",
       "      <td>metal_co_ox_2_spin_2_ligstr_misc_misc_misc_mis...</td>\n",
       "      <td>MD1</td>\n",
       "      <td>0</td>\n",
       "      <td>2</td>\n",
       "      <td>2</td>\n",
       "      <td>0.00</td>\n",
       "      <td>0.02</td>\n",
       "      <td>0.36</td>\n",
       "      <td>0.00</td>\n",
       "      <td>...</td>\n",
       "      <td>90</td>\n",
       "      <td>144</td>\n",
       "      <td>729</td>\n",
       "      <td>999</td>\n",
       "      <td>1296</td>\n",
       "      <td>1026</td>\n",
       "      <td>3.5344</td>\n",
       "      <td>29.6852</td>\n",
       "      <td>38.9160</td>\n",
       "      <td>37.036</td>\n",
       "    </tr>\n",
       "    <tr>\n",
       "      <th>2</th>\n",
       "      <td>2</td>\n",
       "      <td>metal_co_ox_3_spin_5_ligstr_water_water_water_...</td>\n",
       "      <td>MD1</td>\n",
       "      <td>0</td>\n",
       "      <td>3</td>\n",
       "      <td>5</td>\n",
       "      <td>0.72</td>\n",
       "      <td>0.72</td>\n",
       "      <td>0.00</td>\n",
       "      <td>0.00</td>\n",
       "      <td>...</td>\n",
       "      <td>72</td>\n",
       "      <td>0</td>\n",
       "      <td>729</td>\n",
       "      <td>1296</td>\n",
       "      <td>324</td>\n",
       "      <td>0</td>\n",
       "      <td>3.5344</td>\n",
       "      <td>38.8032</td>\n",
       "      <td>49.6320</td>\n",
       "      <td>0.000</td>\n",
       "    </tr>\n",
       "    <tr>\n",
       "      <th>3</th>\n",
       "      <td>3</td>\n",
       "      <td>metal_fe_ox_2_spin_1_ligstr_pyr_pyr_pyr_pyr_py...</td>\n",
       "      <td>MD1</td>\n",
       "      <td>0</td>\n",
       "      <td>2</td>\n",
       "      <td>1</td>\n",
       "      <td>-0.04</td>\n",
       "      <td>-0.04</td>\n",
       "      <td>0.72</td>\n",
       "      <td>0.72</td>\n",
       "      <td>...</td>\n",
       "      <td>216</td>\n",
       "      <td>288</td>\n",
       "      <td>676</td>\n",
       "      <td>1092</td>\n",
       "      <td>1872</td>\n",
       "      <td>2184</td>\n",
       "      <td>3.3489</td>\n",
       "      <td>33.3792</td>\n",
       "      <td>55.9980</td>\n",
       "      <td>104.310</td>\n",
       "    </tr>\n",
       "    <tr>\n",
       "      <th>4</th>\n",
       "      <td>4</td>\n",
       "      <td>metal_mn_ox_2_spin_2_ligstr_pyr_pyr_pyr_pyr_py...</td>\n",
       "      <td>MD1</td>\n",
       "      <td>0</td>\n",
       "      <td>2</td>\n",
       "      <td>2</td>\n",
       "      <td>-0.04</td>\n",
       "      <td>-0.04</td>\n",
       "      <td>0.72</td>\n",
       "      <td>0.72</td>\n",
       "      <td>...</td>\n",
       "      <td>216</td>\n",
       "      <td>288</td>\n",
       "      <td>625</td>\n",
       "      <td>1050</td>\n",
       "      <td>1800</td>\n",
       "      <td>2100</td>\n",
       "      <td>2.4025</td>\n",
       "      <td>28.2720</td>\n",
       "      <td>47.4300</td>\n",
       "      <td>88.350</td>\n",
       "    </tr>\n",
       "  </tbody>\n",
       "</table>\n",
       "<p>5 rows × 157 columns</p>\n",
       "</div>"
      ],
      "text/plain": [
       "   id                                               name  set  ligcharge  ox  \\\n",
       "0   0  metal_fe_ox_3_spin_6_ligstr_pyr_pyr_pyr_pyr_ca...  MD1          0   3   \n",
       "1   1  metal_co_ox_2_spin_2_ligstr_misc_misc_misc_mis...  MD1          0   2   \n",
       "2   2  metal_co_ox_3_spin_5_ligstr_water_water_water_...  MD1          0   3   \n",
       "3   3  metal_fe_ox_2_spin_1_ligstr_pyr_pyr_pyr_pyr_py...  MD1          0   2   \n",
       "4   4  metal_mn_ox_2_spin_2_ligstr_pyr_pyr_pyr_pyr_py...  MD1          0   2   \n",
       "\n",
       "   spin  RACs.D_lc-S-1-ax  RACs.D_lc-S-1-eq  RACs.D_lc-S-2-ax  \\\n",
       "0     6              0.04             -0.04              0.00   \n",
       "1     2              0.00              0.02              0.36   \n",
       "2     5              0.72              0.72              0.00   \n",
       "3     1             -0.04             -0.04              0.72   \n",
       "4     2             -0.04             -0.04              0.72   \n",
       "\n",
       "   RACs.D_lc-S-2-eq  ...  RACs.mc-T-2-all  RACs.mc-T-3-all  RACs.mc-Z-0-all  \\\n",
       "0              0.72  ...              156              192              676   \n",
       "1              0.00  ...               90              144              729   \n",
       "2              0.00  ...               72                0              729   \n",
       "3              0.72  ...              216              288              676   \n",
       "4              0.72  ...              216              288              625   \n",
       "\n",
       "   RACs.mc-Z-1-all  RACs.mc-Z-2-all  RACs.mc-Z-3-all  RACs.mc-chi-0-all  \\\n",
       "0             1040             1664             1456             3.3489   \n",
       "1              999             1296             1026             3.5344   \n",
       "2             1296              324                0             3.5344   \n",
       "3             1092             1872             2184             3.3489   \n",
       "4             1050             1800             2100             2.4025   \n",
       "\n",
       "   RACs.mc-chi-1-all  RACs.mc-chi-2-all  RACs.mc-chi-3-all  \n",
       "0            31.5858            49.9224             69.540  \n",
       "1            29.6852            38.9160             37.036  \n",
       "2            38.8032            49.6320              0.000  \n",
       "3            33.3792            55.9980            104.310  \n",
       "4            28.2720            47.4300             88.350  \n",
       "\n",
       "[5 rows x 157 columns]"
      ]
     },
     "execution_count": 5,
     "metadata": {},
     "output_type": "execute_result"
    }
   ],
   "source": [
    "df_features.head()"
   ]
  },
  {
   "cell_type": "markdown",
   "metadata": {},
   "source": [
    "## Take a look at the properties"
   ]
  },
  {
   "cell_type": "code",
   "execution_count": 6,
   "metadata": {},
   "outputs": [
    {
     "data": {
      "text/plain": [
       "(4865, 24)"
      ]
     },
     "execution_count": 6,
     "metadata": {},
     "output_type": "execute_result"
    }
   ],
   "source": [
    "df_props.shape"
   ]
  },
  {
   "cell_type": "code",
   "execution_count": 7,
   "metadata": {},
   "outputs": [
    {
     "data": {
      "text/html": [
       "<div>\n",
       "<style scoped>\n",
       "    .dataframe tbody tr th:only-of-type {\n",
       "        vertical-align: middle;\n",
       "    }\n",
       "\n",
       "    .dataframe tbody tr th {\n",
       "        vertical-align: top;\n",
       "    }\n",
       "\n",
       "    .dataframe thead th {\n",
       "        text-align: right;\n",
       "    }\n",
       "</style>\n",
       "<table border=\"1\" class=\"dataframe\">\n",
       "  <thead>\n",
       "    <tr style=\"text-align: right;\">\n",
       "      <th></th>\n",
       "      <th>Unnamed: 0</th>\n",
       "      <th>ID</th>\n",
       "      <th>name</th>\n",
       "      <th>charge</th>\n",
       "      <th>ox</th>\n",
       "      <th>spin</th>\n",
       "      <th>natoms</th>\n",
       "      <th>liglist</th>\n",
       "      <th>ne_valence</th>\n",
       "      <th>energy (ha)</th>\n",
       "      <th>...</th>\n",
       "      <th>I_ND</th>\n",
       "      <th>I_D</th>\n",
       "      <th>rND</th>\n",
       "      <th>I_ND_vn</th>\n",
       "      <th>FOD</th>\n",
       "      <th>FOD_vn</th>\n",
       "      <th>energeticHOMO (eV)</th>\n",
       "      <th>energeticGap (eV)</th>\n",
       "      <th>subset</th>\n",
       "      <th>set</th>\n",
       "    </tr>\n",
       "  </thead>\n",
       "  <tbody>\n",
       "    <tr>\n",
       "      <th>0</th>\n",
       "      <td>0</td>\n",
       "      <td>0</td>\n",
       "      <td>metal_fe_ox_3_spin_6_ligstr_pyr_pyr_pyr_pyr_ca...</td>\n",
       "      <td>3</td>\n",
       "      <td>3</td>\n",
       "      <td>6</td>\n",
       "      <td>49</td>\n",
       "      <td>[25, 25, 25, 25, 7, 7]</td>\n",
       "      <td>153</td>\n",
       "      <td>-1342.329042</td>\n",
       "      <td>...</td>\n",
       "      <td>0.777794</td>\n",
       "      <td>1.334297</td>\n",
       "      <td>0.368258</td>\n",
       "      <td>0.005084</td>\n",
       "      <td>1.823334</td>\n",
       "      <td>0.011917</td>\n",
       "      <td>-16.558125</td>\n",
       "      <td>1.480299</td>\n",
       "      <td>SRX</td>\n",
       "      <td>MD1</td>\n",
       "    </tr>\n",
       "    <tr>\n",
       "      <th>1</th>\n",
       "      <td>1</td>\n",
       "      <td>1</td>\n",
       "      <td>metal_co_ox_2_spin_2_ligstr_misc_misc_misc_mis...</td>\n",
       "      <td>2</td>\n",
       "      <td>2</td>\n",
       "      <td>2</td>\n",
       "      <td>38</td>\n",
       "      <td>[18, 18, 18, 18, 25, 7]</td>\n",
       "      <td>119</td>\n",
       "      <td>-1037.237964</td>\n",
       "      <td>...</td>\n",
       "      <td>0.220155</td>\n",
       "      <td>0.973060</td>\n",
       "      <td>0.184505</td>\n",
       "      <td>0.001850</td>\n",
       "      <td>0.450361</td>\n",
       "      <td>0.003785</td>\n",
       "      <td>-12.876425</td>\n",
       "      <td>4.639540</td>\n",
       "      <td>SRX</td>\n",
       "      <td>MD1</td>\n",
       "    </tr>\n",
       "    <tr>\n",
       "      <th>2</th>\n",
       "      <td>2</td>\n",
       "      <td>2</td>\n",
       "      <td>metal_co_ox_3_spin_5_ligstr_water_water_water_...</td>\n",
       "      <td>3</td>\n",
       "      <td>3</td>\n",
       "      <td>5</td>\n",
       "      <td>19</td>\n",
       "      <td>[28, 28, 28, 28, 28, 28]</td>\n",
       "      <td>62</td>\n",
       "      <td>-602.463874</td>\n",
       "      <td>...</td>\n",
       "      <td>0.375511</td>\n",
       "      <td>0.409059</td>\n",
       "      <td>0.478620</td>\n",
       "      <td>0.006057</td>\n",
       "      <td>0.871505</td>\n",
       "      <td>0.014057</td>\n",
       "      <td>-22.667080</td>\n",
       "      <td>2.606850</td>\n",
       "      <td>SRX</td>\n",
       "      <td>MD1</td>\n",
       "    </tr>\n",
       "    <tr>\n",
       "      <th>3</th>\n",
       "      <td>3</td>\n",
       "      <td>3</td>\n",
       "      <td>metal_fe_ox_2_spin_1_ligstr_pyr_pyr_pyr_pyr_py...</td>\n",
       "      <td>2</td>\n",
       "      <td>2</td>\n",
       "      <td>1</td>\n",
       "      <td>67</td>\n",
       "      <td>[25, 25, 25, 25, 25, 25]</td>\n",
       "      <td>194</td>\n",
       "      <td>-1612.832027</td>\n",
       "      <td>...</td>\n",
       "      <td>0.487771</td>\n",
       "      <td>1.715463</td>\n",
       "      <td>0.221388</td>\n",
       "      <td>0.002514</td>\n",
       "      <td>0.996572</td>\n",
       "      <td>0.005137</td>\n",
       "      <td>-11.839671</td>\n",
       "      <td>5.175604</td>\n",
       "      <td>SRX</td>\n",
       "      <td>MD1</td>\n",
       "    </tr>\n",
       "    <tr>\n",
       "      <th>4</th>\n",
       "      <td>4</td>\n",
       "      <td>4</td>\n",
       "      <td>metal_mn_ox_2_spin_2_ligstr_pyr_pyr_pyr_pyr_py...</td>\n",
       "      <td>2</td>\n",
       "      <td>2</td>\n",
       "      <td>2</td>\n",
       "      <td>67</td>\n",
       "      <td>[25, 25, 25, 25, 25, 25]</td>\n",
       "      <td>193</td>\n",
       "      <td>-1593.307398</td>\n",
       "      <td>...</td>\n",
       "      <td>0.557232</td>\n",
       "      <td>1.701161</td>\n",
       "      <td>0.246738</td>\n",
       "      <td>0.002887</td>\n",
       "      <td>1.161882</td>\n",
       "      <td>0.006020</td>\n",
       "      <td>-10.938975</td>\n",
       "      <td>3.891227</td>\n",
       "      <td>SRX</td>\n",
       "      <td>MD1</td>\n",
       "    </tr>\n",
       "  </tbody>\n",
       "</table>\n",
       "<p>5 rows × 24 columns</p>\n",
       "</div>"
      ],
      "text/plain": [
       "   Unnamed: 0  ID                                               name  charge  \\\n",
       "0           0   0  metal_fe_ox_3_spin_6_ligstr_pyr_pyr_pyr_pyr_ca...       3   \n",
       "1           1   1  metal_co_ox_2_spin_2_ligstr_misc_misc_misc_mis...       2   \n",
       "2           2   2  metal_co_ox_3_spin_5_ligstr_water_water_water_...       3   \n",
       "3           3   3  metal_fe_ox_2_spin_1_ligstr_pyr_pyr_pyr_pyr_py...       2   \n",
       "4           4   4  metal_mn_ox_2_spin_2_ligstr_pyr_pyr_pyr_pyr_py...       2   \n",
       "\n",
       "   ox  spin  natoms                   liglist  ne_valence  energy (ha)  ...  \\\n",
       "0   3     6      49    [25, 25, 25, 25, 7, 7]         153 -1342.329042  ...   \n",
       "1   2     2      38   [18, 18, 18, 18, 25, 7]         119 -1037.237964  ...   \n",
       "2   3     5      19  [28, 28, 28, 28, 28, 28]          62  -602.463874  ...   \n",
       "3   2     1      67  [25, 25, 25, 25, 25, 25]         194 -1612.832027  ...   \n",
       "4   2     2      67  [25, 25, 25, 25, 25, 25]         193 -1593.307398  ...   \n",
       "\n",
       "       I_ND       I_D       rND   I_ND_vn       FOD    FOD_vn  \\\n",
       "0  0.777794  1.334297  0.368258  0.005084  1.823334  0.011917   \n",
       "1  0.220155  0.973060  0.184505  0.001850  0.450361  0.003785   \n",
       "2  0.375511  0.409059  0.478620  0.006057  0.871505  0.014057   \n",
       "3  0.487771  1.715463  0.221388  0.002514  0.996572  0.005137   \n",
       "4  0.557232  1.701161  0.246738  0.002887  1.161882  0.006020   \n",
       "\n",
       "   energeticHOMO (eV)  energeticGap (eV)  subset  set  \n",
       "0          -16.558125           1.480299     SRX  MD1  \n",
       "1          -12.876425           4.639540     SRX  MD1  \n",
       "2          -22.667080           2.606850     SRX  MD1  \n",
       "3          -11.839671           5.175604     SRX  MD1  \n",
       "4          -10.938975           3.891227     SRX  MD1  \n",
       "\n",
       "[5 rows x 24 columns]"
      ]
     },
     "execution_count": 7,
     "metadata": {},
     "output_type": "execute_result"
    }
   ],
   "source": [
    "df_props.head()"
   ]
  },
  {
   "cell_type": "markdown",
   "metadata": {},
   "source": [
    "## Take a look at all the $r_{ND}$ diagnostic values"
   ]
  },
  {
   "cell_type": "code",
   "execution_count": 8,
   "metadata": {},
   "outputs": [
    {
     "data": {
      "text/plain": [
       "array([0.36825776, 0.18450546, 0.47861996, ..., 0.28135455, 0.34729125,\n",
       "       0.46193074])"
      ]
     },
     "execution_count": 8,
     "metadata": {},
     "output_type": "execute_result"
    }
   ],
   "source": [
    "df_props['rND'].values"
   ]
  },
  {
   "cell_type": "code",
   "execution_count": 9,
   "metadata": {},
   "outputs": [
    {
     "data": {
      "text/plain": [
       "4865"
      ]
     },
     "execution_count": 9,
     "metadata": {},
     "output_type": "execute_result"
    }
   ],
   "source": [
    "len(df_props['rND'].values)"
   ]
  },
  {
   "cell_type": "markdown",
   "metadata": {},
   "source": [
    "## Take a look at the HOMO-LUMO gap values"
   ]
  },
  {
   "cell_type": "code",
   "execution_count": 10,
   "metadata": {},
   "outputs": [
    {
     "data": {
      "text/plain": [
       "array([1.48029907, 4.63954029, 2.6068502 , ..., 4.00551514, 2.84631035,\n",
       "       2.69664776])"
      ]
     },
     "execution_count": 10,
     "metadata": {},
     "output_type": "execute_result"
    }
   ],
   "source": [
    "df_props['energeticGap (eV)'].values"
   ]
  },
  {
   "cell_type": "markdown",
   "metadata": {},
   "source": [
    "## Plot $r_{ND}$ vs HOMO-LUMO gap. Is there any correlation between them?"
   ]
  },
  {
   "cell_type": "code",
   "execution_count": 11,
   "metadata": {},
   "outputs": [
    {
     "data": {
      "text/plain": [
       "Text(0.5, 0, 'gap (eV)')"
      ]
     },
     "execution_count": 11,
     "metadata": {},
     "output_type": "execute_result"
    },
    {
     "name": "stderr",
     "output_type": "stream",
     "text": [
      "findfont: Font family ['sans-serif'] not found. Falling back to DejaVu Sans.\n",
      "findfont: Generic family 'sans-serif' not found because none of the following families were found: Helvetica\n"
     ]
    },
    {
     "data": {
      "image/png": "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\n",
      "text/plain": [
       "<Figure size 237.6x237.6 with 1 Axes>"
      ]
     },
     "metadata": {
      "needs_background": "light"
     },
     "output_type": "display_data"
    }
   ],
   "source": [
    "fig = plt.figure(figsize=(3.3,3.3))\n",
    "gap = df_props['energeticGap (eV)'].values\n",
    "rnd = df_props['rND'].values\n",
    "plt.scatter(gap,rnd,edgecolors=None,c='b',alpha=0.2)\n",
    "plt.ylabel('$r_{ND}$ (unitless)')\n",
    "plt.xlabel('gap (eV)')"
   ]
  },
  {
   "cell_type": "markdown",
   "metadata": {},
   "source": [
    "## Next we are going to try different ways to predict rND"
   ]
  },
  {
   "cell_type": "markdown",
   "metadata": {},
   "source": [
    "# Predict $r_{ND}$ from HOMO-LUMO gap with linear regression"
   ]
  },
  {
   "cell_type": "markdown",
   "metadata": {},
   "source": [
    "extract $r_{ND}$ and gap (eV) from database"
   ]
  },
  {
   "cell_type": "code",
   "execution_count": 12,
   "metadata": {},
   "outputs": [],
   "source": [
    "X = df_props['energeticGap (eV)'].values.reshape(-1, 1)\n",
    "y = df_props['rND'].values"
   ]
  },
  {
   "cell_type": "markdown",
   "metadata": {},
   "source": [
    "split into train and test dataset"
   ]
  },
  {
   "cell_type": "code",
   "execution_count": 13,
   "metadata": {},
   "outputs": [],
   "source": [
    "X_train, X_test, y_train, y_test = train_test_split(X, y, test_size=0.2)"
   ]
  },
  {
   "cell_type": "markdown",
   "metadata": {},
   "source": [
    "train linear regression model"
   ]
  },
  {
   "cell_type": "code",
   "execution_count": 14,
   "metadata": {},
   "outputs": [],
   "source": [
    "reg=linear_model.LinearRegression()\n",
    "reg=reg.fit(X_train, y_train)"
   ]
  },
  {
   "cell_type": "markdown",
   "metadata": {},
   "source": [
    "use linear regression to predict test data points"
   ]
  },
  {
   "cell_type": "code",
   "execution_count": 15,
   "metadata": {},
   "outputs": [],
   "source": [
    "y_predict = reg.predict(X_test)"
   ]
  },
  {
   "cell_type": "markdown",
   "metadata": {},
   "source": [
    "Mean square error for linear regression with one feature:"
   ]
  },
  {
   "cell_type": "code",
   "execution_count": 16,
   "metadata": {},
   "outputs": [
    {
     "data": {
      "text/plain": [
       "0.005712844447604498"
      ]
     },
     "execution_count": 16,
     "metadata": {},
     "output_type": "execute_result"
    }
   ],
   "source": [
    "np.mean(np.square(y_test-y_predict))"
   ]
  },
  {
   "cell_type": "code",
   "execution_count": 17,
   "metadata": {},
   "outputs": [
    {
     "data": {
      "text/plain": [
       "Text(0.5, 0, '$r_{ND}$ (real)')"
      ]
     },
     "execution_count": 17,
     "metadata": {},
     "output_type": "execute_result"
    },
    {
     "data": {
      "image/png": "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\n",
      "text/plain": [
       "<Figure size 237.6x237.6 with 1 Axes>"
      ]
     },
     "metadata": {
      "needs_background": "light"
     },
     "output_type": "display_data"
    }
   ],
   "source": [
    "\n",
    "\n",
    "fig = plt.figure(figsize=(3.3,3.3))\n",
    "plt.scatter(y_test,y_predict,edgecolors=None,c='b',alpha=0.2)\n",
    "xmin=0.1; xmax=0.6\n",
    "diag=np.linspace(xmin, xmax,100)\n",
    "plt.plot(diag,diag, color='gray')\n",
    "plt.xlim((xmin,xmax))\n",
    "plt.ylim((xmin,xmax))\n",
    "plt.ylabel('$r_{ND}$ (predicted)')\n",
    "plt.xlabel('$r_{ND}$ (real)')"
   ]
  },
  {
   "cell_type": "markdown",
   "metadata": {},
   "source": [
    "# Predict $r_{ND}$ from all molecular features (157) from the data set with linear regression"
   ]
  },
  {
   "cell_type": "markdown",
   "metadata": {},
   "source": [
    "We expect more features will improve the result over just one feature above."
   ]
  },
  {
   "cell_type": "markdown",
   "metadata": {},
   "source": [
    "Figure out which features are used in original database"
   ]
  },
  {
   "cell_type": "code",
   "execution_count": 18,
   "metadata": {},
   "outputs": [],
   "source": [
    "def return_train_columns(df, cols_selected=False):\n",
    "    keys = ['RACs']\n",
    "    removed_columns = []\n",
    "    if not cols_selected:\n",
    "        return_columns = ['ligcharge', 'ox', 'spin']\n",
    "        for col in df.columns:\n",
    "            for key in keys:\n",
    "                if key in col and 'init' not in col and 'misc' not in col:\n",
    "                    if 'Zeff' not in col and '-O-' not in col:\n",
    "                        return_columns.append(col)\n",
    "    else:\n",
    "        print(\"Using input columns.\")\n",
    "        return_columns = cols_selected\n",
    "    print(\"inital: \", len(return_columns))\n",
    "    df = df.dropna(subset=return_columns)\n",
    "    thre = 1e-4\n",
    "    final_cols = []\n",
    "    for col in return_columns:\n",
    "        std = np.std(df[col].values)\n",
    "        if std < thre:\n",
    "            removed_columns.append(col)\n",
    "        else:\n",
    "            final_cols.append(col)\n",
    "    print(\"removed: \", removed_columns, len(removed_columns))\n",
    "    print(\"feature_used:\", final_cols, len(final_cols))\n",
    "    return final_cols, df"
   ]
  },
  {
   "cell_type": "markdown",
   "metadata": {},
   "source": [
    "extract all features from database"
   ]
  },
  {
   "cell_type": "code",
   "execution_count": 19,
   "metadata": {},
   "outputs": [
    {
     "name": "stdout",
     "output_type": "stream",
     "text": [
      "inital:  154\n",
      "removed:  [] 0\n",
      "feature_used: ['ligcharge', 'ox', 'spin', 'RACs.D_lc-S-1-ax', 'RACs.D_lc-S-1-eq', 'RACs.D_lc-S-2-ax', 'RACs.D_lc-S-2-eq', 'RACs.D_lc-S-3-ax', 'RACs.D_lc-S-3-eq', 'RACs.D_lc-T-1-ax', 'RACs.D_lc-T-1-eq', 'RACs.D_lc-T-2-ax', 'RACs.D_lc-T-2-eq', 'RACs.D_lc-T-3-ax', 'RACs.D_lc-T-3-eq', 'RACs.D_lc-Z-1-ax', 'RACs.D_lc-Z-1-eq', 'RACs.D_lc-Z-2-ax', 'RACs.D_lc-Z-2-eq', 'RACs.D_lc-Z-3-ax', 'RACs.D_lc-Z-3-eq', 'RACs.D_lc-chi-1-ax', 'RACs.D_lc-chi-1-eq', 'RACs.D_lc-chi-2-ax', 'RACs.D_lc-chi-2-eq', 'RACs.D_lc-chi-3-ax', 'RACs.D_lc-chi-3-eq', 'RACs.D_mc-S-1-all', 'RACs.D_mc-S-2-all', 'RACs.D_mc-S-3-all', 'RACs.D_mc-T-1-all', 'RACs.D_mc-T-2-all', 'RACs.D_mc-T-3-all', 'RACs.D_mc-Z-1-all', 'RACs.D_mc-Z-2-all', 'RACs.D_mc-Z-3-all', 'RACs.D_mc-chi-1-all', 'RACs.D_mc-chi-2-all', 'RACs.D_mc-chi-3-all', 'RACs.f-I-0-all', 'RACs.f-I-0-ax', 'RACs.f-I-0-eq', 'RACs.f-I-1-all', 'RACs.f-I-1-ax', 'RACs.f-I-1-eq', 'RACs.f-I-2-all', 'RACs.f-I-2-ax', 'RACs.f-I-2-eq', 'RACs.f-I-3-all', 'RACs.f-I-3-ax', 'RACs.f-I-3-eq', 'RACs.f-S-0-all', 'RACs.f-S-0-ax', 'RACs.f-S-0-eq', 'RACs.f-S-1-all', 'RACs.f-S-1-ax', 'RACs.f-S-1-eq', 'RACs.f-S-2-all', 'RACs.f-S-2-ax', 'RACs.f-S-2-eq', 'RACs.f-S-3-all', 'RACs.f-S-3-ax', 'RACs.f-S-3-eq', 'RACs.f-T-0-all', 'RACs.f-T-0-ax', 'RACs.f-T-0-eq', 'RACs.f-T-1-all', 'RACs.f-T-1-ax', 'RACs.f-T-1-eq', 'RACs.f-T-2-all', 'RACs.f-T-2-ax', 'RACs.f-T-2-eq', 'RACs.f-T-3-all', 'RACs.f-T-3-ax', 'RACs.f-T-3-eq', 'RACs.f-Z-0-all', 'RACs.f-Z-0-ax', 'RACs.f-Z-0-eq', 'RACs.f-Z-1-all', 'RACs.f-Z-1-ax', 'RACs.f-Z-1-eq', 'RACs.f-Z-2-all', 'RACs.f-Z-2-ax', 'RACs.f-Z-2-eq', 'RACs.f-Z-3-all', 'RACs.f-Z-3-ax', 'RACs.f-Z-3-eq', 'RACs.f-chi-0-all', 'RACs.f-chi-0-ax', 'RACs.f-chi-0-eq', 'RACs.f-chi-1-all', 'RACs.f-chi-1-ax', 'RACs.f-chi-1-eq', 'RACs.f-chi-2-all', 'RACs.f-chi-2-ax', 'RACs.f-chi-2-eq', 'RACs.f-chi-3-all', 'RACs.f-chi-3-ax', 'RACs.f-chi-3-eq', 'RACs.lc-I-1-ax', 'RACs.lc-I-1-eq', 'RACs.lc-I-2-ax', 'RACs.lc-I-2-eq', 'RACs.lc-I-3-ax', 'RACs.lc-I-3-eq', 'RACs.lc-S-0-ax', 'RACs.lc-S-0-eq', 'RACs.lc-S-1-ax', 'RACs.lc-S-1-eq', 'RACs.lc-S-2-ax', 'RACs.lc-S-2-eq', 'RACs.lc-S-3-ax', 'RACs.lc-S-3-eq', 'RACs.lc-T-0-ax', 'RACs.lc-T-0-eq', 'RACs.lc-T-1-ax', 'RACs.lc-T-1-eq', 'RACs.lc-T-2-ax', 'RACs.lc-T-2-eq', 'RACs.lc-T-3-ax', 'RACs.lc-T-3-eq', 'RACs.lc-Z-0-ax', 'RACs.lc-Z-0-eq', 'RACs.lc-Z-1-ax', 'RACs.lc-Z-1-eq', 'RACs.lc-Z-2-ax', 'RACs.lc-Z-2-eq', 'RACs.lc-Z-3-ax', 'RACs.lc-Z-3-eq', 'RACs.lc-chi-0-ax', 'RACs.lc-chi-0-eq', 'RACs.lc-chi-1-ax', 'RACs.lc-chi-1-eq', 'RACs.lc-chi-2-ax', 'RACs.lc-chi-2-eq', 'RACs.lc-chi-3-ax', 'RACs.lc-chi-3-eq', 'RACs.mc-I-2-all', 'RACs.mc-I-3-all', 'RACs.mc-S-0-all', 'RACs.mc-S-1-all', 'RACs.mc-S-2-all', 'RACs.mc-S-3-all', 'RACs.mc-T-1-all', 'RACs.mc-T-2-all', 'RACs.mc-T-3-all', 'RACs.mc-Z-0-all', 'RACs.mc-Z-1-all', 'RACs.mc-Z-2-all', 'RACs.mc-Z-3-all', 'RACs.mc-chi-0-all', 'RACs.mc-chi-1-all', 'RACs.mc-chi-2-all', 'RACs.mc-chi-3-all'] 154\n"
     ]
    }
   ],
   "source": [
    "cols_use, df = return_train_columns(df_features, cols_selected=False)\n",
    "X = np.array(df_features[cols_use].values)\n",
    "y= df_props['rND'].values"
   ]
  },
  {
   "cell_type": "markdown",
   "metadata": {},
   "source": [
    "train-test split and linear regression"
   ]
  },
  {
   "cell_type": "code",
   "execution_count": 20,
   "metadata": {},
   "outputs": [],
   "source": [
    "X_train, X_test, y_train, y_test = train_test_split(X, y, test_size=0.2)\n",
    "reg=linear_model.LinearRegression()\n",
    "reg.fit(X_train, y_train)\n",
    "y_predict = reg.predict(X_test)"
   ]
  },
  {
   "cell_type": "markdown",
   "metadata": {},
   "source": [
    "\n",
    "Using all features improves the result compared to using only one feature. Mean square error for all features:"
   ]
  },
  {
   "cell_type": "code",
   "execution_count": 21,
   "metadata": {},
   "outputs": [
    {
     "data": {
      "text/plain": [
       "0.004004320842218289"
      ]
     },
     "execution_count": 21,
     "metadata": {},
     "output_type": "execute_result"
    }
   ],
   "source": [
    "np.mean(np.square(y_test-y_predict))"
   ]
  },
  {
   "cell_type": "code",
   "execution_count": 22,
   "metadata": {},
   "outputs": [
    {
     "data": {
      "text/plain": [
       "Text(0.5, 0, '$r_{ND}$ (real)')"
      ]
     },
     "execution_count": 22,
     "metadata": {},
     "output_type": "execute_result"
    },
    {
     "data": {
      "image/png": "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\n",
      "text/plain": [
       "<Figure size 237.6x237.6 with 1 Axes>"
      ]
     },
     "metadata": {
      "needs_background": "light"
     },
     "output_type": "display_data"
    }
   ],
   "source": [
    "fig = plt.figure(figsize=(3.3,3.3))\n",
    "plt.scatter(y_test,y_predict,edgecolors=None,c='b',alpha=0.2)\n",
    "xmin=0.1; xmax=0.6\n",
    "diag=np.linspace(xmin, xmax,100)\n",
    "plt.plot(diag,diag, color='gray')\n",
    "plt.xlim((xmin,xmax))\n",
    "plt.ylim((xmin,xmax))\n",
    "plt.ylabel('$r_{ND}$ (predicted)')\n",
    "plt.xlabel('$r_{ND}$ (real)')"
   ]
  },
  {
   "cell_type": "markdown",
   "metadata": {},
   "source": [
    "# Predict $r_{ND}$ from selected molecule features (65 optimal features selected based on performance) with linear regression"
   ]
  },
  {
   "cell_type": "code",
   "execution_count": 23,
   "metadata": {},
   "outputs": [
    {
     "name": "stdout",
     "output_type": "stream",
     "text": [
      "Using input columns.\n",
      "inital:  65\n",
      "removed:  [] 0\n",
      "feature_used: ['ligcharge', 'ox', 'spin', 'RACs.mc-Z-0-all', 'RACs.mc-S-0-all', 'RACs.f-chi-3-all', 'RACs.D_mc-Z-1-all', 'RACs.D_mc-S-1-all', 'RACs.f-Z-1-all', 'RACs.f-Z-0-all', 'RACs.f-chi-1-all', 'RACs.f-chi-0-all', 'RACs.f-chi-2-all', 'RACs.f-Z-2-all', 'RACs.D_mc-chi-2-all', 'RACs.mc-chi-2-all', 'RACs.mc-chi-1-all', 'RACs.f-S-0-all', 'RACs.f-S-2-all', 'RACs.D_mc-chi-1-all', 'RACs.mc-Z-1-all', 'RACs.f-S-1-all', 'RACs.f-S-3-all', 'RACs.f-Z-3-all', 'RACs.D_mc-S-2-all', 'RACs.D_mc-Z-2-all', 'RACs.f-I-2-all', 'RACs.f-I-0-all', 'RACs.mc-Z-2-all', 'RACs.f-chi-0-eq', 'RACs.f-I-3-all', 'RACs.f-T-3-all', 'RACs.lc-S-3-eq', 'RACs.mc-chi-3-all', 'RACs.f-T-0-all', 'RACs.D_mc-chi-3-all', 'RACs.D_mc-S-3-all', 'RACs.D_mc-Z-3-all', 'RACs.f-I-1-all', 'RACs.lc-chi-2-eq', 'RACs.D_lc-S-2-ax', 'RACs.mc-T-2-all', 'RACs.D_lc-S-2-eq', 'RACs.D_lc-chi-2-ax', 'RACs.D_lc-Z-2-ax', 'RACs.D_lc-Z-2-eq', 'RACs.D_lc-chi-2-eq', 'RACs.f-Z-3-eq', 'RACs.lc-T-3-eq', 'RACs.mc-I-3-all', 'RACs.f-Z-3-ax', 'RACs.D_lc-T-3-ax', 'RACs.mc-T-3-all', 'RACs.mc-chi-0-all', 'RACs.mc-S-1-all', 'RACs.f-T-2-all', 'RACs.f-T-1-all', 'RACs.mc-Z-3-all', 'RACs.f-T-3-ax', 'RACs.mc-S-2-all', 'RACs.f-Z-1-ax', 'RACs.mc-S-3-all', 'RACs.D_mc-T-3-all', 'RACs.f-Z-2-ax', 'RACs.f-T-3-eq'] 65\n"
     ]
    }
   ],
   "source": [
    "rfa_features = [\"ligcharge\",\"ox\",\"spin\",\"RACs.mc-Z-0-all\",\"RACs.mc-S-0-all\",\"RACs.f-chi-3-all\",\"RACs.D_mc-Z-1-all\",\"RACs.D_mc-S-1-all\",\"RACs.f-Z-1-all\",\"RACs.f-Z-0-all\",\"RACs.f-chi-1-all\",\"RACs.f-chi-0-all\",\"RACs.f-chi-2-all\",\"RACs.f-Z-2-all\",\"RACs.D_mc-chi-2-all\",\"RACs.mc-chi-2-all\",\"RACs.mc-chi-1-all\",\"RACs.f-S-0-all\",\"RACs.f-S-2-all\",\"RACs.D_mc-chi-1-all\",\"RACs.mc-Z-1-all\",\"RACs.f-S-1-all\",\"RACs.f-S-3-all\",\"RACs.f-Z-3-all\",\"RACs.D_mc-S-2-all\",\"RACs.D_mc-Z-2-all\",\"RACs.f-I-2-all\",\"RACs.f-I-0-all\",\"RACs.mc-Z-2-all\",\"RACs.f-chi-0-eq\",\"RACs.f-I-3-all\",\"RACs.f-T-3-all\",\"RACs.lc-S-3-eq\",\"RACs.mc-chi-3-all\",\"RACs.f-T-0-all\",\"RACs.D_mc-chi-3-all\",\"RACs.D_mc-S-3-all\",\"RACs.D_mc-Z-3-all\",\"RACs.f-I-1-all\",\"RACs.lc-chi-2-eq\",\"RACs.D_lc-S-2-ax\",\"RACs.mc-T-2-all\",\"RACs.D_lc-S-2-eq\",\"RACs.D_lc-chi-2-ax\",\"RACs.D_lc-Z-2-ax\",\"RACs.D_lc-Z-2-eq\",\"RACs.D_lc-chi-2-eq\",\"RACs.f-Z-3-eq\",\"RACs.lc-T-3-eq\",\"RACs.mc-I-3-all\",\"RACs.f-Z-3-ax\",\"RACs.D_lc-T-3-ax\",\"RACs.mc-T-3-all\",\"RACs.mc-chi-0-all\",\"RACs.mc-S-1-all\",\"RACs.f-T-2-all\",\"RACs.f-T-1-all\",\"RACs.mc-Z-3-all\",\"RACs.f-T-3-ax\",\"RACs.mc-S-2-all\",\"RACs.f-Z-1-ax\",\"RACs.mc-S-3-all\",\"RACs.D_mc-T-3-all\",\"RACs.f-Z-2-ax\",\"RACs.f-T-3-eq\"]\n",
    "\n",
    "cols_use, df = return_train_columns(df_features, cols_selected=rfa_features)\n",
    "X = np.array(df_features[cols_use].values)\n",
    "y= df_props['rND'].values"
   ]
  },
  {
   "cell_type": "code",
   "execution_count": 24,
   "metadata": {},
   "outputs": [],
   "source": [
    "X_train, X_test, y_train, y_test = train_test_split(X, y, test_size=0.2)\n",
    "reg=linear_model.LinearRegression()\n",
    "reg.fit(X_train, y_train)\n",
    "y_predict = reg.predict(X_test)"
   ]
  },
  {
   "cell_type": "markdown",
   "metadata": {},
   "source": [
    "\n",
    "Using optimal features improves the result compared to using all features. Mean square error for optimal features:"
   ]
  },
  {
   "cell_type": "code",
   "execution_count": 25,
   "metadata": {},
   "outputs": [
    {
     "data": {
      "text/plain": [
       "0.004196764992766463"
      ]
     },
     "execution_count": 25,
     "metadata": {},
     "output_type": "execute_result"
    }
   ],
   "source": [
    "np.mean(np.square(y_test-y_predict))"
   ]
  },
  {
   "cell_type": "code",
   "execution_count": 26,
   "metadata": {},
   "outputs": [
    {
     "data": {
      "text/plain": [
       "Text(0.5, 0, '$r_{ND}$ (real)')"
      ]
     },
     "execution_count": 26,
     "metadata": {},
     "output_type": "execute_result"
    },
    {
     "data": {
      "image/png": "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\n",
      "text/plain": [
       "<Figure size 237.6x237.6 with 1 Axes>"
      ]
     },
     "metadata": {
      "needs_background": "light"
     },
     "output_type": "display_data"
    }
   ],
   "source": [
    "fig = plt.figure(figsize=(3.3,3.3))\n",
    "plt.scatter(y_test,y_predict,edgecolors=None,c='b',alpha=0.2)\n",
    "xmin=0.1; xmax=0.6\n",
    "diag=np.linspace(xmin, xmax,100)\n",
    "plt.plot(diag,diag, color='gray')\n",
    "plt.xlim((xmin,xmax))\n",
    "plt.ylim((xmin,xmax))\n",
    "plt.ylabel('$r_{ND}$ (predicted)')\n",
    "plt.xlabel('$r_{ND}$ (real)')"
   ]
  },
  {
   "cell_type": "markdown",
   "metadata": {},
   "source": [
    "# Comparison with Kernel ridge regression (KRR) model to predict $r_{ND}$ from the RACS features "
   ]
  },
  {
   "cell_type": "code",
   "execution_count": 27,
   "metadata": {},
   "outputs": [],
   "source": [
    "def prepare_data(df, x_scaler, cols_selected=False):\n",
    "    np.random.seed(0)\n",
    "    cols_use, df = return_train_columns(df, cols_selected)\n",
    "    X = np.array(df[cols_use].values)\n",
    "    X_scaled = x_scaler.transform(X)\n",
    "    return X_scaled, cols_use\n",
    "\n",
    "def predict(model_filename, df, x_scaler_filename, y_scaler_filename,y , cols_selected=False):\n",
    "    x_scaler = pickle.load(open(x_scaler_filename,'rb'))\n",
    "    y_scaler = pickle.load(open(y_scaler_filename,'rb'))\n",
    "    krr = pickle.load(open(model_filename,'rb'))\n",
    "    X_scaled, cols_use =  prepare_data(df, x_scaler, cols_selected=cols_selected)\n",
    "    X_scaled_train, X_scaled_test, y_train, y_test = train_test_split(X_scaled,y, test_size=0.2)\n",
    "    y_predict_scaled = krr.predict(X_scaled_test)\n",
    "    y_predict = y_scaler.inverse_transform(y_predict_scaled)[:,0]\n",
    "    return y_predict, y_test\n"
   ]
  },
  {
   "cell_type": "code",
   "execution_count": 28,
   "metadata": {},
   "outputs": [
    {
     "name": "stdout",
     "output_type": "stream",
     "text": [
      "Using input columns.\n",
      "inital:  65\n",
      "removed:  [] 0\n",
      "feature_used: ['ligcharge', 'ox', 'spin', 'RACs.mc-Z-0-all', 'RACs.mc-S-0-all', 'RACs.f-chi-3-all', 'RACs.D_mc-Z-1-all', 'RACs.D_mc-S-1-all', 'RACs.f-Z-1-all', 'RACs.f-Z-0-all', 'RACs.f-chi-1-all', 'RACs.f-chi-0-all', 'RACs.f-chi-2-all', 'RACs.f-Z-2-all', 'RACs.D_mc-chi-2-all', 'RACs.mc-chi-2-all', 'RACs.mc-chi-1-all', 'RACs.f-S-0-all', 'RACs.f-S-2-all', 'RACs.D_mc-chi-1-all', 'RACs.mc-Z-1-all', 'RACs.f-S-1-all', 'RACs.f-S-3-all', 'RACs.f-Z-3-all', 'RACs.D_mc-S-2-all', 'RACs.D_mc-Z-2-all', 'RACs.f-I-2-all', 'RACs.f-I-0-all', 'RACs.mc-Z-2-all', 'RACs.f-chi-0-eq', 'RACs.f-I-3-all', 'RACs.f-T-3-all', 'RACs.lc-S-3-eq', 'RACs.mc-chi-3-all', 'RACs.f-T-0-all', 'RACs.D_mc-chi-3-all', 'RACs.D_mc-S-3-all', 'RACs.D_mc-Z-3-all', 'RACs.f-I-1-all', 'RACs.lc-chi-2-eq', 'RACs.D_lc-S-2-ax', 'RACs.mc-T-2-all', 'RACs.D_lc-S-2-eq', 'RACs.D_lc-chi-2-ax', 'RACs.D_lc-Z-2-ax', 'RACs.D_lc-Z-2-eq', 'RACs.D_lc-chi-2-eq', 'RACs.f-Z-3-eq', 'RACs.lc-T-3-eq', 'RACs.mc-I-3-all', 'RACs.f-Z-3-ax', 'RACs.D_lc-T-3-ax', 'RACs.mc-T-3-all', 'RACs.mc-chi-0-all', 'RACs.mc-S-1-all', 'RACs.f-T-2-all', 'RACs.f-T-1-all', 'RACs.mc-Z-3-all', 'RACs.f-T-3-ax', 'RACs.mc-S-2-all', 'RACs.f-Z-1-ax', 'RACs.mc-S-3-all', 'RACs.D_mc-T-3-all', 'RACs.f-Z-2-ax', 'RACs.f-T-3-eq'] 65\n"
     ]
    }
   ],
   "source": [
    "\n",
    "modelfile = os.path.join(modelpath,'Data/models/KRR/MD2_rND_krr_model/MD2_rND_krr.pkl')\n",
    "x_scaler_filename =  os.path.join(modelpath,'Data/models/KRR/MD2_rND_krr_model/x_scaler.pkl')\n",
    "y_scaler_filename =  os.path.join(modelpath,'Data/models/KRR/MD2_rND_krr_model/y_scaler.pkl')\n",
    "# Note we are not using all features. We are using the selected features verified to be optimal\n",
    "rfa_features = [\"ligcharge\",\"ox\",\"spin\",\"RACs.mc-Z-0-all\",\"RACs.mc-S-0-all\",\"RACs.f-chi-3-all\",\"RACs.D_mc-Z-1-all\",\"RACs.D_mc-S-1-all\",\"RACs.f-Z-1-all\",\"RACs.f-Z-0-all\",\"RACs.f-chi-1-all\",\"RACs.f-chi-0-all\",\"RACs.f-chi-2-all\",\"RACs.f-Z-2-all\",\"RACs.D_mc-chi-2-all\",\"RACs.mc-chi-2-all\",\"RACs.mc-chi-1-all\",\"RACs.f-S-0-all\",\"RACs.f-S-2-all\",\"RACs.D_mc-chi-1-all\",\"RACs.mc-Z-1-all\",\"RACs.f-S-1-all\",\"RACs.f-S-3-all\",\"RACs.f-Z-3-all\",\"RACs.D_mc-S-2-all\",\"RACs.D_mc-Z-2-all\",\"RACs.f-I-2-all\",\"RACs.f-I-0-all\",\"RACs.mc-Z-2-all\",\"RACs.f-chi-0-eq\",\"RACs.f-I-3-all\",\"RACs.f-T-3-all\",\"RACs.lc-S-3-eq\",\"RACs.mc-chi-3-all\",\"RACs.f-T-0-all\",\"RACs.D_mc-chi-3-all\",\"RACs.D_mc-S-3-all\",\"RACs.D_mc-Z-3-all\",\"RACs.f-I-1-all\",\"RACs.lc-chi-2-eq\",\"RACs.D_lc-S-2-ax\",\"RACs.mc-T-2-all\",\"RACs.D_lc-S-2-eq\",\"RACs.D_lc-chi-2-ax\",\"RACs.D_lc-Z-2-ax\",\"RACs.D_lc-Z-2-eq\",\"RACs.D_lc-chi-2-eq\",\"RACs.f-Z-3-eq\",\"RACs.lc-T-3-eq\",\"RACs.mc-I-3-all\",\"RACs.f-Z-3-ax\",\"RACs.D_lc-T-3-ax\",\"RACs.mc-T-3-all\",\"RACs.mc-chi-0-all\",\"RACs.mc-S-1-all\",\"RACs.f-T-2-all\",\"RACs.f-T-1-all\",\"RACs.mc-Z-3-all\",\"RACs.f-T-3-ax\",\"RACs.mc-S-2-all\",\"RACs.f-Z-1-ax\",\"RACs.mc-S-3-all\",\"RACs.D_mc-T-3-all\",\"RACs.f-Z-2-ax\",\"RACs.f-T-3-eq\"]\n",
    "y_predict, y_test = predict(modelfile, df_features, x_scaler_filename, y_scaler_filename,y, cols_selected=rfa_features)"
   ]
  },
  {
   "cell_type": "markdown",
   "metadata": {},
   "source": [
    "Using Kernel ridge regression (KRR) improves the result compared to linear regression. Mean square error for KRR model"
   ]
  },
  {
   "cell_type": "code",
   "execution_count": 29,
   "metadata": {},
   "outputs": [
    {
     "data": {
      "text/plain": [
       "0.001010840837029485"
      ]
     },
     "execution_count": 29,
     "metadata": {},
     "output_type": "execute_result"
    }
   ],
   "source": [
    "np.mean(np.square(y_test-y_predict))"
   ]
  },
  {
   "cell_type": "markdown",
   "metadata": {},
   "source": [
    "Improved result is visible in the plot."
   ]
  },
  {
   "cell_type": "code",
   "execution_count": 30,
   "metadata": {},
   "outputs": [
    {
     "data": {
      "text/plain": [
       "Text(0.5, 0, '$r_{ND}$ (real)')"
      ]
     },
     "execution_count": 30,
     "metadata": {},
     "output_type": "execute_result"
    },
    {
     "data": {
      "image/png": "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\n",
      "text/plain": [
       "<Figure size 432x288 with 1 Axes>"
      ]
     },
     "metadata": {
      "needs_background": "light"
     },
     "output_type": "display_data"
    }
   ],
   "source": [
    "plt.scatter(y_test,y_predict,edgecolors=None,c='b',alpha=0.2)\n",
    "xmin=0.1; xmax=0.6\n",
    "diag=np.linspace(xmin, xmax,100)\n",
    "plt.plot(diag,diag, color='gray')\n",
    "plt.xlim((xmin,xmax))\n",
    "plt.ylim((xmin,xmax))\n",
    "plt.ylabel('$r_{ND}$ (predicted)')\n",
    "plt.xlabel('$r_{ND}$ (real)')"
   ]
  },
  {
   "cell_type": "code",
   "execution_count": null,
   "metadata": {},
   "outputs": [],
   "source": []
  },
  {
   "cell_type": "code",
   "execution_count": null,
   "metadata": {},
   "outputs": [],
   "source": []
  }
 ],
 "metadata": {
  "kernelspec": {
   "display_name": "Python 3",
   "language": "python",
   "name": "python3"
  },
  "language_info": {
   "codemirror_mode": {
    "name": "ipython",
    "version": 3
   },
   "file_extension": ".py",
   "mimetype": "text/x-python",
   "name": "python",
   "nbconvert_exporter": "python",
   "pygments_lexer": "ipython3",
   "version": "3.7.10"
  }
 },
 "nbformat": 4,
 "nbformat_minor": 4
}
                                                                                                                                                                                                                                                                                                                                                                                                                                                              